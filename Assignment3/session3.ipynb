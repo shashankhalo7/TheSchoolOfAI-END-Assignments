{
  "nbformat": 4,
  "nbformat_minor": 0,
  "metadata": {
    "colab": {
      "name": "session3.ipynb",
      "provenance": [],
      "collapsed_sections": [],
      "include_colab_link": true
    },
    "kernelspec": {
      "name": "python3",
      "display_name": "Python 3"
    }
  },
  "cells": [
    {
      "cell_type": "markdown",
      "metadata": {
        "id": "view-in-github",
        "colab_type": "text"
      },
      "source": [
        "<a href=\"https://colab.research.google.com/github/shashankhalo7/TheSchoolOfAI-END-Assignments/blob/main/Assignment3/session3.ipynb\" target=\"_parent\"><img src=\"https://colab.research.google.com/assets/colab-badge.svg\" alt=\"Open In Colab\"/></a>"
      ]
    },
    {
      "cell_type": "code",
      "metadata": {
        "id": "oSwkaYYl1Kh5"
      },
      "source": [
        "import numpy as np\n",
        "import pandas as pd\n",
        " \n",
        "import math\n",
        "import functools\n",
        "from string import printable\n",
        " \n",
        "from random import randint, choice"
      ],
      "execution_count": 1,
      "outputs": []
    },
    {
      "cell_type": "markdown",
      "metadata": {
        "id": "pwo1cRs_JII5"
      },
      "source": [
        "**1. Write a function using only list filter lambda that can tell whether a number is a Fibonacci number or not. You can use a pre-calculated list/dict to store fab numbers till 10000 PTS:100**"
      ]
    },
    {
      "cell_type": "code",
      "metadata": {
        "id": "lbMBpf4w18Bx"
      },
      "source": [
        "#1 - create list of Fibonacci numbers list\n",
        "fib_list = [0,1]\n",
        "for k in range(2,10000):\n",
        "    fib_list.append(fib_list[k-2]+fib_list[k-1]) "
      ],
      "execution_count": null,
      "outputs": []
    },
    {
      "cell_type": "code",
      "metadata": {
        "id": "u4f-WVdN7bVY",
        "outputId": "5fb22236-7e8e-4c4e-84fc-d23bf242eb00",
        "colab": {
          "base_uri": "https://localhost:8080/"
        }
      },
      "source": [
        "fib_list[:10]"
      ],
      "execution_count": null,
      "outputs": [
        {
          "output_type": "execute_result",
          "data": {
            "text/plain": [
              "[0, 1, 1, 2, 3, 5, 8, 13, 21, 34]"
            ]
          },
          "metadata": {
            "tags": []
          },
          "execution_count": 4
        }
      ]
    },
    {
      "cell_type": "code",
      "metadata": {
        "id": "gWUNDA4i3ySP",
        "outputId": "fc6fcfbf-a67c-4310-f4bb-107829679ae1",
        "colab": {
          "base_uri": "https://localhost:8080/"
        }
      },
      "source": [
        "# For a given list , it will filter to only fibonacci numbers\n",
        "given_list = [1, 10, 34, 2000, 12334546]\n",
        "list(filter(lambda x: x in fib_list, given_list))"
      ],
      "execution_count": null,
      "outputs": [
        {
          "output_type": "execute_result",
          "data": {
            "text/plain": [
              "[1, 34]"
            ]
          },
          "metadata": {
            "tags": []
          },
          "execution_count": 5
        }
      ]
    },
    {
      "cell_type": "markdown",
      "metadata": {
        "id": "6Rrf6y6cJSoN"
      },
      "source": [
        "2. Using list comprehension (and zip/lambda/etc if required) write five different expressions that: PTS:100\n",
        "  - add 2 iterables a and b such that a is even and b is odd\n",
        "  - strips every vowel from a string provided (tsai>>t s)\n",
        "  - acts like a ReLU function for a 1D array\n",
        "  - acts like a sigmoid function for a 1D array\n",
        "  - takes a small character string and shifts all characters by 5 (handle boundary conditions) tsai>>yxfn"
      ]
    },
    {
      "cell_type": "code",
      "metadata": {
        "id": "vRLtf3enZMlF"
      },
      "source": [
        "## Odd and Even iteratables\n",
        "a = [x for x in range(1,101) if x % 2 == 0] ##Even numbers\n",
        "b = [x for x in range(1,101) if x % 2 == 1] ##Odd numbers\n",
        "sum = [i+j for i,j in zip(a,b)]"
      ],
      "execution_count": null,
      "outputs": []
    },
    {
      "cell_type": "code",
      "metadata": {
        "id": "FEn_FyBl7Ytf",
        "outputId": "172cb4f5-509b-466b-f32b-2306a36d00c3",
        "colab": {
          "base_uri": "https://localhost:8080/"
        }
      },
      "source": [
        "\n",
        "##Strip Vowels from a given string\n",
        "in_string = \"I am great! what a rainy day! oh! we should have gotten umbrella\" #Testing string\n",
        "\n",
        "out_string = \"\".join([x if x.lower() not in 'aeiou' else ' ' for x in in_string])\n",
        "\n",
        "print(in_string)\n",
        "print(out_string)"
      ],
      "execution_count": null,
      "outputs": [
        {
          "output_type": "stream",
          "text": [
            "I am great! what a rainy day! oh! we should have gotten umbrella\n",
            "   m gr  t! wh t   r  ny d y!  h! w  sh  ld h v  g tt n  mbr ll \n"
          ],
          "name": "stdout"
        }
      ]
    },
    {
      "cell_type": "code",
      "metadata": {
        "id": "J0Sd2vqr8xeO",
        "outputId": "a2fbfc74-f64e-495c-b08f-1bc9961e2602",
        "colab": {
          "base_uri": "https://localhost:8080/"
        }
      },
      "source": [
        "in_array = np.arange(-10,10)\n",
        "in_array"
      ],
      "execution_count": 2,
      "outputs": [
        {
          "output_type": "execute_result",
          "data": {
            "text/plain": [
              "array([-10,  -9,  -8,  -7,  -6,  -5,  -4,  -3,  -2,  -1,   0,   1,   2,\n",
              "         3,   4,   5,   6,   7,   8,   9])"
            ]
          },
          "metadata": {
            "tags": []
          },
          "execution_count": 2
        }
      ]
    },
    {
      "cell_type": "code",
      "metadata": {
        "id": "1cD1DXqCAhsB",
        "outputId": "5608dc08-b5db-4633-e85b-06d5532c9606",
        "colab": {
          "base_uri": "https://localhost:8080/"
        }
      },
      "source": [
        "## act like ReLU function for 1D array\n",
        "def relu_1d(a):\n",
        "  return [x if x > 0 else 0 for x in a]\n",
        "\n",
        "relu_1d(in_array)"
      ],
      "execution_count": null,
      "outputs": [
        {
          "output_type": "execute_result",
          "data": {
            "text/plain": [
              "[0, 0, 0, 0, 0, 0, 0, 0, 0, 0, 0, 1, 2, 3, 4, 5, 6, 7, 8, 9]"
            ]
          },
          "metadata": {
            "tags": []
          },
          "execution_count": 85
        }
      ]
    },
    {
      "cell_type": "code",
      "metadata": {
        "id": "ClwMLZ4yCnOn",
        "outputId": "a68544ec-6672-4d88-f9d6-e965a19387f7",
        "colab": {
          "base_uri": "https://localhost:8080/"
        }
      },
      "source": [
        "## Act like Sigmoid function for 1D array\n",
        "def sigmoid_1d(a):\n",
        "  return [1/(1+np.exp(-x)) for x in a]\n",
        "\n",
        "sigmoid_1d(in_array)"
      ],
      "execution_count": 5,
      "outputs": [
        {
          "output_type": "execute_result",
          "data": {
            "text/plain": [
              "[4.5397868702434395e-05,\n",
              " 0.00012339457598623172,\n",
              " 0.0003353501304664781,\n",
              " 0.0009110511944006454,\n",
              " 0.0024726231566347743,\n",
              " 0.0066928509242848554,\n",
              " 0.01798620996209156,\n",
              " 0.04742587317756678,\n",
              " 0.11920292202211755,\n",
              " 0.2689414213699951,\n",
              " 0.5,\n",
              " 0.7310585786300049,\n",
              " 0.8807970779778823,\n",
              " 0.9525741268224334,\n",
              " 0.9820137900379085,\n",
              " 0.9933071490757153,\n",
              " 0.9975273768433653,\n",
              " 0.9990889488055994,\n",
              " 0.9996646498695336,\n",
              " 0.9998766054240137]"
            ]
          },
          "metadata": {
            "tags": []
          },
          "execution_count": 5
        }
      ]
    },
    {
      "cell_type": "code",
      "metadata": {
        "id": "RZrrnqVYFDXg",
        "outputId": "a386f4a1-bdc7-4e22-8a8f-21e66ff308e0",
        "colab": {
          "base_uri": "https://localhost:8080/",
          "height": 35
        }
      },
      "source": [
        "## take small chars string and shift by 5 chrs (handle boundary)\n",
        "x_in = \"xgbtyrwqtsai\"\n",
        "\n",
        "def shift_chars(s, i):\n",
        "  return \"\".join([chr(ord(x)+i) if ord(x)+i <= 122 else chr(ord(x)-21) for x in x_in])\n",
        "\n",
        "shift_chars(x_in, 5)"
      ],
      "execution_count": null,
      "outputs": [
        {
          "output_type": "execute_result",
          "data": {
            "application/vnd.google.colaboratory.intrinsic+json": {
              "type": "string"
            },
            "text/plain": [
              "'clgydwbvyxfn'"
            ]
          },
          "metadata": {
            "tags": []
          },
          "execution_count": 81
        }
      ]
    },
    {
      "cell_type": "markdown",
      "metadata": {
        "id": "9Q_QBNXCJ6ei"
      },
      "source": [
        "3. A list comprehension expression that takes a ~200 word paragraph (write your own paragraph to check), and checks whether it has any of the swear words mentioned in https://github.com/RobertJGabriel/Google-profanity-words/blob/master/list.txt PTS:200"
      ]
    },
    {
      "cell_type": "code",
      "metadata": {
        "id": "Ywxht5dBX1xG",
        "outputId": "5499d17c-f7f6-4a14-e125-7529c7ab0102",
        "colab": {
          "base_uri": "https://localhost:8080/"
        }
      },
      "source": [
        "!wget \"https://raw.githubusercontent.com/RobertJGabriel/Google-profanity-words/master/list.txt\""
      ],
      "execution_count": 11,
      "outputs": [
        {
          "output_type": "stream",
          "text": [
            "--2020-11-04 03:50:20--  https://raw.githubusercontent.com/RobertJGabriel/Google-profanity-words/master/list.txt\n",
            "Resolving raw.githubusercontent.com (raw.githubusercontent.com)... 151.101.0.133, 151.101.64.133, 151.101.128.133, ...\n",
            "Connecting to raw.githubusercontent.com (raw.githubusercontent.com)|151.101.0.133|:443... connected.\n",
            "HTTP request sent, awaiting response... 200 OK\n",
            "Length: 3622 (3.5K) [text/plain]\n",
            "Saving to: ‘list.txt’\n",
            "\n",
            "list.txt            100%[===================>]   3.54K  --.-KB/s    in 0s      \n",
            "\n",
            "2020-11-04 03:50:20 (57.4 MB/s) - ‘list.txt’ saved [3622/3622]\n",
            "\n"
          ],
          "name": "stdout"
        }
      ]
    },
    {
      "cell_type": "code",
      "metadata": {
        "id": "MZ4XP7A2blbp"
      },
      "source": [
        "with open(\"/content/list.txt\", 'r') as file:\n",
        "    data = file.read().splitlines()"
      ],
      "execution_count": 12,
      "outputs": []
    },
    {
      "cell_type": "code",
      "metadata": {
        "id": "xCKnEBwQb-JO",
        "outputId": "47078074-4c1a-47ad-d9db-f4db394f66fe",
        "colab": {
          "base_uri": "https://localhost:8080/"
        }
      },
      "source": [
        "data[:10]"
      ],
      "execution_count": 13,
      "outputs": [
        {
          "output_type": "execute_result",
          "data": {
            "text/plain": [
              "['4r5e', '5h1t', '5hit', 'a55', 'anal', 'anus', 'ar5e', 'arrse', 'arse', 'ass']"
            ]
          },
          "metadata": {
            "tags": []
          },
          "execution_count": 13
        }
      ]
    },
    {
      "cell_type": "code",
      "metadata": {
        "id": "txeSSGYpb_KW",
        "outputId": "93457b67-668a-4a16-f2a4-b4b90ee0ffb4",
        "colab": {
          "base_uri": "https://localhost:8080/"
        }
      },
      "source": [
        "#in_para = \"How are you? please move your ass from the chair and get some work done in the field. 5hit\"\n",
        "\n",
        "in_para = \"A swear word is a word or phrase that's 5hit generally anal considered blasphemous, obscene, vulgar, or otherwise offensive. These are also called bad words, obscenities, expletives, dirty words, profanities, and four-letter words. The act of using a swear word is known as swearing or cursing. Swear words serve many different functions in different social contexts, notes Janet Holmes. They may express annoyance, aggression and insult, for instance, or they may express solidarity and friendliness, (Holmes 2013).\"\n",
        "\n",
        "[x for x in in_para.split() if x in data]"
      ],
      "execution_count": 16,
      "outputs": [
        {
          "output_type": "execute_result",
          "data": {
            "text/plain": [
              "['5hit', 'anal']"
            ]
          },
          "metadata": {
            "tags": []
          },
          "execution_count": 16
        }
      ]
    },
    {
      "cell_type": "markdown",
      "metadata": {
        "id": "Eq5712MkKFBY"
      },
      "source": [
        "4. Using reduce functions: PTS:100\n",
        "add only even numbers in a list\n",
        "find the biggest character in a string (printable ascii characters)\n",
        "adds every 3rd number in a list"
      ]
    },
    {
      "cell_type": "code",
      "metadata": {
        "id": "6_aLwz1qePBk",
        "outputId": "950ab2f8-f3e9-4efe-d5e2-0ce4177365be",
        "colab": {
          "base_uri": "https://localhost:8080/"
        }
      },
      "source": [
        "## Use Reduce to add even numbers in a list\n",
        "lis = range(10)\n",
        "# using reduce to compute sum of list \n",
        "#print (\"The sum of the list elements is : \",end=\"\") \n",
        "print (functools.reduce(lambda a,b : a+b,[x for x in lis if x % 2 == 0])) "
      ],
      "execution_count": null,
      "outputs": [
        {
          "output_type": "stream",
          "text": [
            "20\n"
          ],
          "name": "stdout"
        }
      ]
    },
    {
      "cell_type": "code",
      "metadata": {
        "id": "TzZerZhUle7I",
        "outputId": "bb9a0982-6e22-4fad-9a09-cd931924e23f",
        "colab": {
          "base_uri": "https://localhost:8080/"
        }
      },
      "source": [
        "import string\n",
        "max([ord(x) for x in string.printable])"
      ],
      "execution_count": 18,
      "outputs": [
        {
          "output_type": "execute_result",
          "data": {
            "text/plain": [
              "126"
            ]
          },
          "metadata": {
            "tags": []
          },
          "execution_count": 18
        }
      ]
    },
    {
      "cell_type": "code",
      "metadata": {
        "id": "bMYIZP8biOxy",
        "outputId": "3833e2e0-2470-4e5e-a764-957ca11f896e",
        "colab": {
          "base_uri": "https://localhost:8080/"
        }
      },
      "source": [
        "## Use reduce to find biggest character in a string\n",
        "s_lis = \"how r you! }} \"\n",
        "print (functools.reduce(lambda a,b : a if ord(a) > ord(b) else b,\"\".join([x for x in s_lis if x in string.printable])))"
      ],
      "execution_count": 20,
      "outputs": [
        {
          "output_type": "stream",
          "text": [
            "}\n"
          ],
          "name": "stdout"
        }
      ]
    },
    {
      "cell_type": "code",
      "metadata": {
        "id": "X4lm8i9gjHWv",
        "outputId": "59a042e8-3ae1-4909-cf34-d99779347a4a",
        "colab": {
          "base_uri": "https://localhost:8080/"
        }
      },
      "source": [
        "## Add every 3rd number in a list\n",
        "lis = range(10)\n",
        "print(functools.reduce(lambda x, y: x+y, [value for idx, value in enumerate(lis) if idx % 3 == 0]))"
      ],
      "execution_count": null,
      "outputs": [
        {
          "output_type": "stream",
          "text": [
            "18\n"
          ],
          "name": "stdout"
        }
      ]
    },
    {
      "cell_type": "markdown",
      "metadata": {
        "id": "99L29-S6KT7M"
      },
      "source": [
        "5. Using randint, random.choice and list comprehensions, write an expression that generates 15 random KADDAADDDD number plates, where KA is fixed, D stands for a digit, and A stands for Capital alphabets. 10<<DD<<99 & 1000<<DDDD<<9999 PTS:100\n"
      ]
    },
    {
      "cell_type": "code",
      "metadata": {
        "id": "afPJTAR5q4hI",
        "outputId": "7ab0e6dd-0185-4569-a369-e5b3db97133b",
        "colab": {
          "base_uri": "https://localhost:8080/"
        }
      },
      "source": [
        "## Expression to generate 15 string of format \"KADDAADDDD\"\n",
        "\n",
        "[\"KA\"+str(randint(10,99))+2*choice(string.ascii_uppercase)+str(randint(1000,9999)) for i in range(15)]"
      ],
      "execution_count": null,
      "outputs": [
        {
          "output_type": "execute_result",
          "data": {
            "text/plain": [
              "['KA46FF1353',\n",
              " 'KA76BB3499',\n",
              " 'KA85MM1676',\n",
              " 'KA26II8398',\n",
              " 'KA50NN5303',\n",
              " 'KA91WW5723',\n",
              " 'KA29TT5483',\n",
              " 'KA29HH8545',\n",
              " 'KA63HH6220',\n",
              " 'KA80LL9558',\n",
              " 'KA37MM7064',\n",
              " 'KA80YY4176',\n",
              " 'KA93TT7754',\n",
              " 'KA72HH3430',\n",
              " 'KA67KK2932']"
            ]
          },
          "metadata": {
            "tags": []
          },
          "execution_count": 140
        }
      ]
    },
    {
      "cell_type": "markdown",
      "metadata": {
        "id": "Gfuq6oLQK3H7"
      },
      "source": [
        "6. Write the above again from scratch where KA can be changed to DL, and 1000/9999 ranges can be provided.  PTS:100"
      ]
    },
    {
      "cell_type": "code",
      "metadata": {
        "id": "VDNHHP_OsBnz",
        "outputId": "1979e679-1a82-408e-86e9-843feeca2706",
        "colab": {
          "base_uri": "https://localhost:8080/"
        }
      },
      "source": [
        "def plate_nums(prefix=\"KA\", start=1000, end=9999, n=15):\n",
        "  return [prefix+str(randint(10,99))+2*choice(string.ascii_uppercase)+str(randint(start,end)) for i in range(n)]\n",
        "\n",
        "plate_nums(prefix=\"DL\", start=1000, end=9999, n=15)"
      ],
      "execution_count": null,
      "outputs": [
        {
          "output_type": "execute_result",
          "data": {
            "text/plain": [
              "['DL70HH2697',\n",
              " 'DL32ZZ3575',\n",
              " 'DL36SS4051',\n",
              " 'DL26BB1337',\n",
              " 'DL30PP6518',\n",
              " 'DL92PP3371',\n",
              " 'DL69LL3961',\n",
              " 'DL15KK7483',\n",
              " 'DL48GG9623',\n",
              " 'DL30PP3188',\n",
              " 'DL80RR1939',\n",
              " 'DL63VV9476',\n",
              " 'DL64MM6293',\n",
              " 'DL85UU1387',\n",
              " 'DL36LL4034']"
            ]
          },
          "metadata": {
            "tags": []
          },
          "execution_count": 148
        }
      ]
    },
    {
      "cell_type": "code",
      "metadata": {
        "id": "SjypmwgTth6d",
        "outputId": "08f9054f-72af-43e5-cddf-e8abd95dcab4",
        "colab": {
          "base_uri": "https://localhost:8080/"
        }
      },
      "source": [
        "plate_nums()"
      ],
      "execution_count": null,
      "outputs": [
        {
          "output_type": "execute_result",
          "data": {
            "text/plain": [
              "['KA74XX1257',\n",
              " 'KA22YY3619',\n",
              " 'KA21MM4205',\n",
              " 'KA92PP9926',\n",
              " 'KA77CC2781',\n",
              " 'KA60OO1873',\n",
              " 'KA29DD5169',\n",
              " 'KA97XX3474',\n",
              " 'KA20SS6718',\n",
              " 'KA41WW4387',\n",
              " 'KA18BB3884',\n",
              " 'KA37AA2171',\n",
              " 'KA31PP4233',\n",
              " 'KA41DD2948',\n",
              " 'KA63ZZ9513']"
            ]
          },
          "metadata": {
            "tags": []
          },
          "execution_count": 149
        }
      ]
    },
    {
      "cell_type": "code",
      "metadata": {
        "id": "r7gKwzPwuU3N"
      },
      "source": [
        ""
      ],
      "execution_count": null,
      "outputs": []
    }
  ]
}