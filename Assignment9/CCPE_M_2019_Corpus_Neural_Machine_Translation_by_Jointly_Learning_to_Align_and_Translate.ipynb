{
  "nbformat": 4,
  "nbformat_minor": 0,
  "metadata": {
    "kernelspec": {
      "display_name": "Python 3",
      "language": "python",
      "name": "python3"
    },
    "language_info": {
      "codemirror_mode": {
        "name": "ipython",
        "version": 3
      },
      "file_extension": ".py",
      "mimetype": "text/x-python",
      "name": "python",
      "nbconvert_exporter": "python",
      "pygments_lexer": "ipython3",
      "version": "3.8.2"
    },
    "colab": {
      "name": "CCPE-M-2019 Corpus Neural_Machine_Translation_by_Jointly_Learning_to_Align_and_Translate.ipynb",
      "provenance": [],
      "collapsed_sections": [],
      "toc_visible": true
    },
    "accelerator": "GPU"
  },
  "cells": [
    {
      "cell_type": "code",
      "metadata": {
        "id": "_KDJ9ysmCdyp",
        "colab": {
          "base_uri": "https://localhost:8080/"
        },
        "outputId": "39dde30c-ae8c-44ea-8bc8-756ae432a9ab"
      },
      "source": [
        "%%bash\n",
        "python -m spacy download en\n",
        "python -m spacy download de"
      ],
      "execution_count": 1,
      "outputs": [
        {
          "output_type": "stream",
          "text": [
            "Requirement already satisfied: en_core_web_sm==2.2.5 from https://github.com/explosion/spacy-models/releases/download/en_core_web_sm-2.2.5/en_core_web_sm-2.2.5.tar.gz#egg=en_core_web_sm==2.2.5 in /usr/local/lib/python3.6/dist-packages (2.2.5)\n",
            "Requirement already satisfied: spacy>=2.2.2 in /usr/local/lib/python3.6/dist-packages (from en_core_web_sm==2.2.5) (2.2.4)\n",
            "Requirement already satisfied: murmurhash<1.1.0,>=0.28.0 in /usr/local/lib/python3.6/dist-packages (from spacy>=2.2.2->en_core_web_sm==2.2.5) (1.0.5)\n",
            "Requirement already satisfied: setuptools in /usr/local/lib/python3.6/dist-packages (from spacy>=2.2.2->en_core_web_sm==2.2.5) (51.0.0)\n",
            "Requirement already satisfied: preshed<3.1.0,>=3.0.2 in /usr/local/lib/python3.6/dist-packages (from spacy>=2.2.2->en_core_web_sm==2.2.5) (3.0.5)\n",
            "Requirement already satisfied: thinc==7.4.0 in /usr/local/lib/python3.6/dist-packages (from spacy>=2.2.2->en_core_web_sm==2.2.5) (7.4.0)\n",
            "Requirement already satisfied: numpy>=1.15.0 in /usr/local/lib/python3.6/dist-packages (from spacy>=2.2.2->en_core_web_sm==2.2.5) (1.19.4)\n",
            "Requirement already satisfied: plac<1.2.0,>=0.9.6 in /usr/local/lib/python3.6/dist-packages (from spacy>=2.2.2->en_core_web_sm==2.2.5) (1.1.3)\n",
            "Requirement already satisfied: tqdm<5.0.0,>=4.38.0 in /usr/local/lib/python3.6/dist-packages (from spacy>=2.2.2->en_core_web_sm==2.2.5) (4.41.1)\n",
            "Requirement already satisfied: blis<0.5.0,>=0.4.0 in /usr/local/lib/python3.6/dist-packages (from spacy>=2.2.2->en_core_web_sm==2.2.5) (0.4.1)\n",
            "Requirement already satisfied: cymem<2.1.0,>=2.0.2 in /usr/local/lib/python3.6/dist-packages (from spacy>=2.2.2->en_core_web_sm==2.2.5) (2.0.5)\n",
            "Requirement already satisfied: catalogue<1.1.0,>=0.0.7 in /usr/local/lib/python3.6/dist-packages (from spacy>=2.2.2->en_core_web_sm==2.2.5) (1.0.0)\n",
            "Requirement already satisfied: requests<3.0.0,>=2.13.0 in /usr/local/lib/python3.6/dist-packages (from spacy>=2.2.2->en_core_web_sm==2.2.5) (2.23.0)\n",
            "Requirement already satisfied: wasabi<1.1.0,>=0.4.0 in /usr/local/lib/python3.6/dist-packages (from spacy>=2.2.2->en_core_web_sm==2.2.5) (0.8.0)\n",
            "Requirement already satisfied: srsly<1.1.0,>=1.0.2 in /usr/local/lib/python3.6/dist-packages (from spacy>=2.2.2->en_core_web_sm==2.2.5) (1.0.5)\n",
            "Requirement already satisfied: importlib-metadata>=0.20; python_version < \"3.8\" in /usr/local/lib/python3.6/dist-packages (from catalogue<1.1.0,>=0.0.7->spacy>=2.2.2->en_core_web_sm==2.2.5) (3.3.0)\n",
            "Requirement already satisfied: idna<3,>=2.5 in /usr/local/lib/python3.6/dist-packages (from requests<3.0.0,>=2.13.0->spacy>=2.2.2->en_core_web_sm==2.2.5) (2.10)\n",
            "Requirement already satisfied: chardet<4,>=3.0.2 in /usr/local/lib/python3.6/dist-packages (from requests<3.0.0,>=2.13.0->spacy>=2.2.2->en_core_web_sm==2.2.5) (3.0.4)\n",
            "Requirement already satisfied: certifi>=2017.4.17 in /usr/local/lib/python3.6/dist-packages (from requests<3.0.0,>=2.13.0->spacy>=2.2.2->en_core_web_sm==2.2.5) (2020.12.5)\n",
            "Requirement already satisfied: urllib3!=1.25.0,!=1.25.1,<1.26,>=1.21.1 in /usr/local/lib/python3.6/dist-packages (from requests<3.0.0,>=2.13.0->spacy>=2.2.2->en_core_web_sm==2.2.5) (1.24.3)\n",
            "Requirement already satisfied: zipp>=0.5 in /usr/local/lib/python3.6/dist-packages (from importlib-metadata>=0.20; python_version < \"3.8\"->catalogue<1.1.0,>=0.0.7->spacy>=2.2.2->en_core_web_sm==2.2.5) (3.4.0)\n",
            "Requirement already satisfied: typing-extensions>=3.6.4; python_version < \"3.8\" in /usr/local/lib/python3.6/dist-packages (from importlib-metadata>=0.20; python_version < \"3.8\"->catalogue<1.1.0,>=0.0.7->spacy>=2.2.2->en_core_web_sm==2.2.5) (3.7.4.3)\n",
            "\u001b[38;5;2m✔ Download and installation successful\u001b[0m\n",
            "You can now load the model via spacy.load('en_core_web_sm')\n",
            "\u001b[38;5;2m✔ Linking successful\u001b[0m\n",
            "/usr/local/lib/python3.6/dist-packages/en_core_web_sm -->\n",
            "/usr/local/lib/python3.6/dist-packages/spacy/data/en\n",
            "You can now load the model via spacy.load('en')\n",
            "Requirement already satisfied: de_core_news_sm==2.2.5 from https://github.com/explosion/spacy-models/releases/download/de_core_news_sm-2.2.5/de_core_news_sm-2.2.5.tar.gz#egg=de_core_news_sm==2.2.5 in /usr/local/lib/python3.6/dist-packages (2.2.5)\n",
            "Requirement already satisfied: spacy>=2.2.2 in /usr/local/lib/python3.6/dist-packages (from de_core_news_sm==2.2.5) (2.2.4)\n",
            "Requirement already satisfied: setuptools in /usr/local/lib/python3.6/dist-packages (from spacy>=2.2.2->de_core_news_sm==2.2.5) (51.0.0)\n",
            "Requirement already satisfied: blis<0.5.0,>=0.4.0 in /usr/local/lib/python3.6/dist-packages (from spacy>=2.2.2->de_core_news_sm==2.2.5) (0.4.1)\n",
            "Requirement already satisfied: srsly<1.1.0,>=1.0.2 in /usr/local/lib/python3.6/dist-packages (from spacy>=2.2.2->de_core_news_sm==2.2.5) (1.0.5)\n",
            "Requirement already satisfied: thinc==7.4.0 in /usr/local/lib/python3.6/dist-packages (from spacy>=2.2.2->de_core_news_sm==2.2.5) (7.4.0)\n",
            "Requirement already satisfied: plac<1.2.0,>=0.9.6 in /usr/local/lib/python3.6/dist-packages (from spacy>=2.2.2->de_core_news_sm==2.2.5) (1.1.3)\n",
            "Requirement already satisfied: requests<3.0.0,>=2.13.0 in /usr/local/lib/python3.6/dist-packages (from spacy>=2.2.2->de_core_news_sm==2.2.5) (2.23.0)\n",
            "Requirement already satisfied: wasabi<1.1.0,>=0.4.0 in /usr/local/lib/python3.6/dist-packages (from spacy>=2.2.2->de_core_news_sm==2.2.5) (0.8.0)\n",
            "Requirement already satisfied: cymem<2.1.0,>=2.0.2 in /usr/local/lib/python3.6/dist-packages (from spacy>=2.2.2->de_core_news_sm==2.2.5) (2.0.5)\n",
            "Requirement already satisfied: catalogue<1.1.0,>=0.0.7 in /usr/local/lib/python3.6/dist-packages (from spacy>=2.2.2->de_core_news_sm==2.2.5) (1.0.0)\n",
            "Requirement already satisfied: preshed<3.1.0,>=3.0.2 in /usr/local/lib/python3.6/dist-packages (from spacy>=2.2.2->de_core_news_sm==2.2.5) (3.0.5)\n",
            "Requirement already satisfied: murmurhash<1.1.0,>=0.28.0 in /usr/local/lib/python3.6/dist-packages (from spacy>=2.2.2->de_core_news_sm==2.2.5) (1.0.5)\n",
            "Requirement already satisfied: tqdm<5.0.0,>=4.38.0 in /usr/local/lib/python3.6/dist-packages (from spacy>=2.2.2->de_core_news_sm==2.2.5) (4.41.1)\n",
            "Requirement already satisfied: numpy>=1.15.0 in /usr/local/lib/python3.6/dist-packages (from spacy>=2.2.2->de_core_news_sm==2.2.5) (1.19.4)\n",
            "Requirement already satisfied: idna<3,>=2.5 in /usr/local/lib/python3.6/dist-packages (from requests<3.0.0,>=2.13.0->spacy>=2.2.2->de_core_news_sm==2.2.5) (2.10)\n",
            "Requirement already satisfied: certifi>=2017.4.17 in /usr/local/lib/python3.6/dist-packages (from requests<3.0.0,>=2.13.0->spacy>=2.2.2->de_core_news_sm==2.2.5) (2020.12.5)\n",
            "Requirement already satisfied: urllib3!=1.25.0,!=1.25.1,<1.26,>=1.21.1 in /usr/local/lib/python3.6/dist-packages (from requests<3.0.0,>=2.13.0->spacy>=2.2.2->de_core_news_sm==2.2.5) (1.24.3)\n",
            "Requirement already satisfied: chardet<4,>=3.0.2 in /usr/local/lib/python3.6/dist-packages (from requests<3.0.0,>=2.13.0->spacy>=2.2.2->de_core_news_sm==2.2.5) (3.0.4)\n",
            "Requirement already satisfied: importlib-metadata>=0.20; python_version < \"3.8\" in /usr/local/lib/python3.6/dist-packages (from catalogue<1.1.0,>=0.0.7->spacy>=2.2.2->de_core_news_sm==2.2.5) (3.3.0)\n",
            "Requirement already satisfied: typing-extensions>=3.6.4; python_version < \"3.8\" in /usr/local/lib/python3.6/dist-packages (from importlib-metadata>=0.20; python_version < \"3.8\"->catalogue<1.1.0,>=0.0.7->spacy>=2.2.2->de_core_news_sm==2.2.5) (3.7.4.3)\n",
            "Requirement already satisfied: zipp>=0.5 in /usr/local/lib/python3.6/dist-packages (from importlib-metadata>=0.20; python_version < \"3.8\"->catalogue<1.1.0,>=0.0.7->spacy>=2.2.2->de_core_news_sm==2.2.5) (3.4.0)\n",
            "\u001b[38;5;2m✔ Download and installation successful\u001b[0m\n",
            "You can now load the model via spacy.load('de_core_news_sm')\n",
            "\u001b[38;5;2m✔ Linking successful\u001b[0m\n",
            "/usr/local/lib/python3.6/dist-packages/de_core_news_sm -->\n",
            "/usr/local/lib/python3.6/dist-packages/spacy/data/de\n",
            "You can now load the model via spacy.load('de')\n"
          ],
          "name": "stdout"
        }
      ]
    },
    {
      "cell_type": "markdown",
      "metadata": {
        "id": "IXPzJpICCdeo"
      },
      "source": [
        "**Restart Notebook**"
      ]
    },
    {
      "cell_type": "markdown",
      "metadata": {
        "id": "_GgLPTpV9ejD"
      },
      "source": [
        "# 3 - Neural Machine Translation by Jointly Learning to Align and Translate\n",
        "\n",
        "In this third notebook on sequence-to-sequence models using PyTorch and TorchText, we'll be implementing the model from [Neural Machine Translation by Jointly Learning to Align and Translate](https://arxiv.org/abs/1409.0473). This model achives our best perplexity yet, ~27 compared to ~34 for the previous model.\n",
        "\n",
        "## Introduction\n",
        "\n",
        "As a reminder, here is the general encoder-decoder model:\n",
        "\n",
        "![](https://github.com/bentrevett/pytorch-seq2seq/blob/master/assets/seq2seq1.png?raw=1)\n",
        "\n",
        "In the previous model, our architecture was set-up in a way to reduce \"information compression\" by explicitly passing the context vector, $z$, to the decoder at every time-step and by passing both the context vector and embedded input word, $d(y_t)$, along with the hidden state, $s_t$, to the linear layer, $f$, to make a prediction.\n",
        "\n",
        "![](https://github.com/bentrevett/pytorch-seq2seq/blob/master/assets/seq2seq7.png?raw=1)\n",
        "\n",
        "Even though we have reduced some of this compression, our context vector still needs to contain all of the information about the source sentence. The model implemented in this notebook avoids this compression by allowing the decoder to look at the entire source sentence (via its hidden states) at each decoding step! How does it do this? It uses *attention*. \n",
        "\n",
        "Attention works by first, calculating an attention vector, $a$, that is the length of the source sentence. The attention vector has the property that each element is between 0 and 1, and the entire vector sums to 1. We then calculate a weighted sum of our source sentence hidden states, $H$, to get a weighted source vector, $w$. \n",
        "\n",
        "$$w = \\sum_{i}a_ih_i$$\n",
        "\n",
        "We calculate a new weighted source vector every time-step when decoding, using it as input to our decoder RNN as well as the linear layer to make a prediction. We'll explain how to do all of this during the session.\n",
        "\n",
        "## Preparing Data\n",
        "\n",
        "Again, the preparation is similar to last time.\n",
        "\n",
        "First we import all the required modules."
      ]
    },
    {
      "cell_type": "code",
      "metadata": {
        "id": "rySJ5AJb9ejE"
      },
      "source": [
        "import torch\n",
        "import torch.nn as nn\n",
        "import torch.optim as optim\n",
        "import torch.nn.functional as F\n",
        "\n",
        "from torchtext.datasets import Multi30k\n",
        "from torchtext import data\n",
        "from torchtext.data import Field, BucketIterator\n",
        "\n",
        "import spacy\n",
        "import numpy as np\n",
        "\n",
        "import random\n",
        "import math\n",
        "import time"
      ],
      "execution_count": 2,
      "outputs": []
    },
    {
      "cell_type": "code",
      "metadata": {
        "id": "uZJrN5ry9ejE"
      },
      "source": [
        "SEED = 1234\n",
        "\n",
        "random.seed(SEED)\n",
        "np.random.seed(SEED)\n",
        "torch.manual_seed(SEED)\n",
        "torch.cuda.manual_seed(SEED)\n",
        "torch.backends.cudnn.deterministic = True"
      ],
      "execution_count": 3,
      "outputs": []
    },
    {
      "cell_type": "markdown",
      "metadata": {
        "id": "R3IcTdPJY8zR"
      },
      "source": [
        "### CCPE-M-2019\r\n",
        "\r\n",
        "A dataset consisting of 502 English dialogs with 12,000 annotated utterances between a user and an assistant discussing movie preferences in natural language. It was collected using a Wizard-of-Oz methodology between two paid crowd-workers, where one worker plays the role of an 'assistant', while the other plays the role of a 'user'.\r\n",
        "\r\n",
        "The 'assistant' elicits the 'user’s' preferences about movies following a Coached Conversational Preference Elicitation (CCPE) method.\r\n",
        "\r\n",
        "The assistant asks questions designed to minimize the bias in the terminology the 'user' employs to convey his or her preferences as much as possible, and to obtain these preferences in natural language. Each dialog is annotated with entity mentions, preferences expressed about entities, descriptions of entities provided, and other statements of entities."
      ]
    },
    {
      "cell_type": "code",
      "metadata": {
        "colab": {
          "base_uri": "https://localhost:8080/"
        },
        "id": "vAS2ruXNY8zR",
        "outputId": "394d6026-3252-46da-c49a-89e508c67c6c"
      },
      "source": [
        "!gsutil -m cp -R gs://dialog-data-corpus/CCPE-M-2019 ./\n",
        "\n"
      ],
      "execution_count": 4,
      "outputs": [
        {
          "output_type": "stream",
          "text": [
            "Copying gs://dialog-data-corpus/CCPE-M-2019/README.txt...\n",
            "/ [0/4 files][    0.0 B/  5.0 MiB]   0% Done                                    \rCopying gs://dialog-data-corpus/CCPE-M-2019/data.json...\n",
            "Copying gs://dialog-data-corpus/CCPE-M-2019/landing_page.html...\n"
          ],
          "name": "stdout"
        }
      ]
    },
    {
      "cell_type": "code",
      "metadata": {
        "id": "dhET2uM_J_UQ"
      },
      "source": [
        "from __future__ import division, print_function\n",
        "%matplotlib inline\n",
        "\n",
        "import matplotlib\n",
        "import numpy as np\n",
        "import matplotlib.pyplot as plt\n",
        "import json\n",
        "from collections import defaultdict\n",
        "from nltk import wordpunct_tokenize\n",
        "from scipy.stats import pearsonr, spearmanr\n",
        "\n",
        "with open('/content/CCPE-M-2019/data.json') as json_file: \n",
        "    dataset = json.load(json_file) "
      ],
      "execution_count": 5,
      "outputs": []
    },
    {
      "cell_type": "code",
      "metadata": {
        "colab": {
          "base_uri": "https://localhost:8080/"
        },
        "id": "XYJca5BQIAHg",
        "outputId": "e9988529-83f1-4806-8f98-df86a755f793"
      },
      "source": [
        "dataset[0]"
      ],
      "execution_count": 6,
      "outputs": [
        {
          "output_type": "execute_result",
          "data": {
            "text/plain": [
              "{'conversationId': 'CCPE-8e113',\n",
              " 'utterances': [{'index': 0,\n",
              "   'speaker': 'ASSISTANT',\n",
              "   'text': 'generally speaking what type of movies do you watch'},\n",
              "  {'index': 1,\n",
              "   'segments': [{'annotations': [{'annotationType': 'ENTITY_NAME',\n",
              "       'entityType': 'MOVIE_GENRE_OR_CATEGORY'}],\n",
              "     'endIndex': 16,\n",
              "     'startIndex': 7,\n",
              "     'text': 'thrillers'},\n",
              "    {'annotations': [{'annotationType': 'ENTITY_PREFERENCE',\n",
              "       'entityType': 'MOVIE_GENRE_OR_CATEGORY'}],\n",
              "     'endIndex': 22,\n",
              "     'startIndex': 0,\n",
              "     'text': 'I like thrillers a lot'}],\n",
              "   'speaker': 'USER',\n",
              "   'text': 'I like thrillers a lot.'},\n",
              "  {'index': 2,\n",
              "   'segments': [{'annotations': [{'annotationType': 'ENTITY_NAME',\n",
              "       'entityType': 'MOVIE_GENRE_OR_CATEGORY'}],\n",
              "     'endIndex': 9,\n",
              "     'startIndex': 0,\n",
              "     'text': 'thrillers'}],\n",
              "   'speaker': 'ASSISTANT',\n",
              "   'text': 'thrillers? for example?'},\n",
              "  {'index': 3,\n",
              "   'segments': [{'annotations': [{'annotationType': 'ENTITY_NAME',\n",
              "       'entityType': 'MOVIE_OR_SERIES'}],\n",
              "     'endIndex': 6,\n",
              "     'startIndex': 0,\n",
              "     'text': 'Zodiac'},\n",
              "    {'annotations': [{'annotationType': 'ENTITY_PREFERENCE',\n",
              "       'entityType': 'MOVIE_GENRE_OR_CATEGORY'}],\n",
              "     'endIndex': 34,\n",
              "     'startIndex': 0,\n",
              "     'text': \"Zodiac's one of my favorite movies\"}],\n",
              "   'speaker': 'USER',\n",
              "   'text': \"Zodiac's one of my favorite movies.\"},\n",
              "  {'index': 4,\n",
              "   'segments': [{'annotations': [{'annotationType': 'ENTITY_NAME',\n",
              "       'entityType': 'MOVIE_OR_SERIES'}],\n",
              "     'endIndex': 6,\n",
              "     'startIndex': 0,\n",
              "     'text': 'Zodiac'},\n",
              "    {'annotations': [{'annotationType': 'ENTITY_DESCRIPTION',\n",
              "       'entityType': 'MOVIE_OR_SERIES'}],\n",
              "     'endIndex': 74,\n",
              "     'startIndex': 0,\n",
              "     'text': \"Zodiac the movie about a serial killer from the '60s or '70s, around there\"}],\n",
              "   'speaker': 'USER',\n",
              "   'text': \"Zodiac the movie about a serial killer from the '60s or '70s, around there.\"},\n",
              "  {'index': 5,\n",
              "   'segments': [{'annotations': [{'annotationType': 'ENTITY_NAME',\n",
              "       'entityType': 'MOVIE_OR_SERIES'}],\n",
              "     'endIndex': 6,\n",
              "     'startIndex': 0,\n",
              "     'text': 'Zodiac'}],\n",
              "   'speaker': 'ASSISTANT',\n",
              "   'text': 'Zodiac? oh wow ok, what do you like about that movie'},\n",
              "  {'index': 6,\n",
              "   'segments': [{'annotations': [{'annotationType': 'ENTITY_PREFERENCE',\n",
              "       'entityType': 'MOVIE_OR_SERIES'}],\n",
              "     'endIndex': 90,\n",
              "     'startIndex': 4,\n",
              "     'text': 'I just think serial killers, in general, are interesting, so the movie was really good'},\n",
              "    {'annotations': [{'annotationType': 'ENTITY_PREFERENCE',\n",
              "       'entityType': 'MOVIE_OR_SERIES'}],\n",
              "     'endIndex': 130,\n",
              "     'startIndex': 96,\n",
              "     'text': 'it was just neat to see that world'},\n",
              "    {'annotations': [{'annotationType': 'ENTITY_PREFERENCE',\n",
              "       'entityType': 'MOVIE_OR_SERIES'}],\n",
              "     'endIndex': 160,\n",
              "     'startIndex': 137,\n",
              "     'text': 'it went really in-depth'},\n",
              "    {'annotations': [{'annotationType': 'ENTITY_PREFERENCE',\n",
              "       'entityType': 'MOVIE_OR_SERIES'}],\n",
              "     'endIndex': 271,\n",
              "     'startIndex': 162,\n",
              "     'text': 'It was like almost 3 hours long, so you got to really feel like you were a part of that world and time period'},\n",
              "    {'annotations': [{'annotationType': 'ENTITY_PREFERENCE',\n",
              "       'entityType': 'MOVIE_OR_SERIES'}],\n",
              "     'endIndex': 341,\n",
              "     'startIndex': 273,\n",
              "     'text': 'And see what the detectives and the police did and the investigators'}],\n",
              "   'speaker': 'USER',\n",
              "   'text': 'And I just think serial killers, in general, are interesting, so the movie was really good. And it was just neat to see that world. Like it went really in-depth. It was like almost 3 hours long, so you got to really feel like you were a part of that world and time period. And see what the detectives and the police did and the investigators.'},\n",
              "  {'index': 7,\n",
              "   'speaker': 'ASSISTANT',\n",
              "   'text': 'so you feel like you were part of that world ?'},\n",
              "  {'index': 8,\n",
              "   'segments': [{'annotations': [{'annotationType': 'ENTITY_PREFERENCE',\n",
              "       'entityType': 'MOVIE_OR_SERIES'}],\n",
              "     'endIndex': 38,\n",
              "     'startIndex': 6,\n",
              "     'text': 'It was really an immersive movie'}],\n",
              "   'speaker': 'USER',\n",
              "   'text': 'Yeah. It was really an immersive movie.'},\n",
              "  {'index': 9,\n",
              "   'speaker': 'ASSISTANT',\n",
              "   'text': 'if you were in the movie what character do you feel most relatable'},\n",
              "  {'index': 10,\n",
              "   'segments': [{'annotations': [{'annotationType': 'ENTITY_PREFERENCE',\n",
              "       'entityType': 'MOVIE_OR_SERIES'}],\n",
              "     'endIndex': 79,\n",
              "     'startIndex': 0,\n",
              "     'text': \"Probably the main character, Robert Graysmith, just cuz he's awkward and bumbly\"}],\n",
              "   'speaker': 'USER',\n",
              "   'text': \"Probably the main character, Robert Graysmith, just cuz he's awkward and bumbly. So, I guess that's the one I would be the closest to.\"},\n",
              "  {'index': 11,\n",
              "   'speaker': 'ASSISTANT',\n",
              "   'text': 'what scene do you like the best'},\n",
              "  {'index': 12,\n",
              "   'segments': [{'annotations': [{'annotationType': 'ENTITY_PREFERENCE',\n",
              "       'entityType': 'MOVIE_OR_SERIES'}],\n",
              "     'endIndex': 132,\n",
              "     'startIndex': 68,\n",
              "     'text': \"it's really vivid and horrific to watch. But it's very memorable\"}],\n",
              "   'speaker': 'USER',\n",
              "   'text': \"Probably the most memorable one is the murder at the lake. Just cuz it's really vivid and horrific to watch. But it's very memorable.\"},\n",
              "  {'index': 13,\n",
              "   'speaker': 'ASSISTANT',\n",
              "   'text': 'ok nice, any other similiar movies you have seen recently?'},\n",
              "  {'index': 14, 'speaker': 'USER', 'text': 'Not that I can think of.'},\n",
              "  {'index': 15,\n",
              "   'segments': [{'annotations': [{'annotationType': 'ENTITY_NAME',\n",
              "       'entityType': 'MOVIE_OR_SERIES'}],\n",
              "     'endIndex': 60,\n",
              "     'startIndex': 40,\n",
              "     'text': 'Once Upon a Deadpool'}],\n",
              "   'speaker': 'ASSISTANT',\n",
              "   'text': 'how about different type of movies like Once Upon a Deadpool'},\n",
              "  {'index': 16,\n",
              "   'segments': [{'annotations': [{'annotationType': 'ENTITY_OTHER',\n",
              "       'entityType': 'MOVIE_OR_SERIES'}],\n",
              "     'endIndex': 19,\n",
              "     'startIndex': 0,\n",
              "     'text': \"I haven't seen that\"}],\n",
              "   'speaker': 'USER',\n",
              "   'text': \"I haven't seen that.\"},\n",
              "  {'index': 17,\n",
              "   'speaker': 'ASSISTANT',\n",
              "   'text': 'have you heard of that movie'},\n",
              "  {'index': 18,\n",
              "   'segments': [{'annotations': [{'annotationType': 'ENTITY_OTHER',\n",
              "       'entityType': 'MOVIE_OR_SERIES'}],\n",
              "     'endIndex': 39,\n",
              "     'startIndex': 0,\n",
              "     'text': \"I've heard of it, but I haven't seen it\"}],\n",
              "   'speaker': 'USER',\n",
              "   'text': \"I've heard of it, but I haven't seen it.\"},\n",
              "  {'index': 19,\n",
              "   'speaker': 'ASSISTANT',\n",
              "   'text': 'would you be interested to watch it'},\n",
              "  {'index': 20,\n",
              "   'segments': [{'annotations': [{'annotationType': 'ENTITY_NAME',\n",
              "       'entityType': 'MOVIE_OR_SERIES'}],\n",
              "     'endIndex': 102,\n",
              "     'startIndex': 94,\n",
              "     'text': 'Deadpool'},\n",
              "    {'annotations': [{'annotationType': 'ENTITY_PREFERENCE',\n",
              "       'entityType': 'MOVIE_GENRE_OR_CATEGORY'}],\n",
              "     'endIndex': 65,\n",
              "     'startIndex': 18,\n",
              "     'text': \"I don't really like comic book movies that much\"},\n",
              "    {'annotations': [{'annotationType': 'ENTITY_PREFERENCE',\n",
              "       'entityType': 'MOVIE_GENRE_OR_CATEGORY'}],\n",
              "     'endIndex': 177,\n",
              "     'startIndex': 107,\n",
              "     'text': \"I'd probably be more willing to watch that than most comic book movies\"},\n",
              "    {'annotations': [{'annotationType': 'ENTITY_PREFERENCE',\n",
              "       'entityType': 'MOVIE_OR_SERIES'}],\n",
              "     'endIndex': 102,\n",
              "     'startIndex': 71,\n",
              "     'text': 'I really wanted to see Deadpool'}],\n",
              "   'speaker': 'USER',\n",
              "   'text': \"Not particularly. I don't really like comic book movies that much. But I really wanted to see Deadpool, so I'd probably be more willing to watch that than most comic book movies.\"},\n",
              "  {'index': 21,\n",
              "   'speaker': 'ASSISTANT',\n",
              "   'text': 'oh what makes deadpool different than the others?'},\n",
              "  {'index': 22,\n",
              "   'segments': [{'annotations': [{'annotationType': 'ENTITY_PREFERENCE',\n",
              "       'entityType': 'MOVIE_OR_SERIES'}],\n",
              "     'endIndex': 58,\n",
              "     'startIndex': 14,\n",
              "     'text': 'It just seems a unique concept and different'},\n",
              "    {'annotations': [{'annotationType': 'ENTITY_PREFERENCE',\n",
              "       'entityType': 'MOVIE_OR_SERIES'}],\n",
              "     'endIndex': 97,\n",
              "     'startIndex': 60,\n",
              "     'text': 'not just the standard superhero movie'}],\n",
              "   'speaker': 'USER',\n",
              "   'text': \"I don't know. It just seems a unique concept and different, not just the standard superhero movie.\"},\n",
              "  {'index': 23,\n",
              "   'segments': [{'annotations': [{'annotationType': 'ENTITY_PREFERENCE',\n",
              "       'entityType': 'MOVIE_OR_SERIES'}],\n",
              "     'endIndex': 43,\n",
              "     'startIndex': 4,\n",
              "     'text': \"it's more of a comedy, so that's unique\"}],\n",
              "   'speaker': 'USER',\n",
              "   'text': \"And it's more of a comedy, so that's unique.\"},\n",
              "  {'index': 24,\n",
              "   'speaker': 'ASSISTANT',\n",
              "   'text': 'ok so you enjoy comedy as well, correct?'},\n",
              "  {'index': 25,\n",
              "   'segments': [{'annotations': [{'annotationType': 'ENTITY_PREFERENCE',\n",
              "       'entityType': 'MOVIE_GENRE_OR_CATEGORY'}],\n",
              "     'endIndex': 27,\n",
              "     'startIndex': 5,\n",
              "     'text': 'I think most people do'}],\n",
              "   'speaker': 'USER',\n",
              "   'text': 'Yep, I think most people do.'},\n",
              "  {'index': 26,\n",
              "   'speaker': 'ASSISTANT',\n",
              "   'text': \"what type of movie you don't enjoy?\"},\n",
              "  {'index': 27,\n",
              "   'segments': [{'annotations': [{'annotationType': 'ENTITY_NAME',\n",
              "       'entityType': 'MOVIE_GENRE_OR_CATEGORY'}],\n",
              "     'endIndex': 26,\n",
              "     'startIndex': 14,\n",
              "     'text': 'action movie'},\n",
              "    {'annotations': [{'annotationType': 'ENTITY_NAME',\n",
              "       'entityType': 'MOVIE_OR_SERIES'}],\n",
              "     'endIndex': 44,\n",
              "     'startIndex': 36,\n",
              "     'text': 'Die Hard'},\n",
              "    {'annotations': [{'annotationType': 'ENTITY_NAME',\n",
              "       'entityType': 'MOVIE_OR_SERIES'}],\n",
              "     'endIndex': 58,\n",
              "     'startIndex': 53,\n",
              "     'text': 'Rambo'},\n",
              "    {'annotations': [{'annotationType': 'ENTITY_PREFERENCE',\n",
              "       'entityType': 'MOVIE_GENRE_OR_CATEGORY'}],\n",
              "     'endIndex': 65,\n",
              "     'startIndex': 0,\n",
              "     'text': \"I'm not a big action movie fan like Die Hard or like Rambo movies\"},\n",
              "    {'annotations': [{'annotationType': 'ENTITY_PREFERENCE',\n",
              "       'entityType': 'MOVIE_GENRE_OR_CATEGORY'}],\n",
              "     'endIndex': 113,\n",
              "     'startIndex': 67,\n",
              "     'text': \"I don't hate them, I just think they're boring\"},\n",
              "    {'annotations': [{'annotationType': 'ENTITY_PREFERENCE',\n",
              "       'entityType': 'MOVIE_GENRE_OR_CATEGORY'}],\n",
              "     'endIndex': 175,\n",
              "     'startIndex': 120,\n",
              "     'text': \"I can't watch a lot of them, or else I get sick of them\"}],\n",
              "   'speaker': 'USER',\n",
              "   'text': \"I'm not a big action movie fan like Die Hard or like Rambo movies. I don't hate them, I just think they're boring. Like I can't watch a lot of them, or else I get sick of them.\"},\n",
              "  {'index': 28,\n",
              "   'segments': [{'annotations': [{'annotationType': 'ENTITY_NAME',\n",
              "       'entityType': 'MOVIE_OR_SERIES'}],\n",
              "     'endIndex': 29,\n",
              "     'startIndex': 11,\n",
              "     'text': 'mission impossible'}],\n",
              "   'speaker': 'ASSISTANT',\n",
              "   'text': 'what about mission impossible?'},\n",
              "  {'index': 29,\n",
              "   'segments': [{'annotations': [{'annotationType': 'ENTITY_OTHER',\n",
              "       'entityType': 'MOVIE_OR_SERIES'}],\n",
              "     'endIndex': 13,\n",
              "     'startIndex': 0,\n",
              "     'text': 'Never seen it'},\n",
              "    {'annotations': [{'annotationType': 'ENTITY_OTHER',\n",
              "       'entityType': 'MOVIE_OR_SERIES'}],\n",
              "     'endIndex': 55,\n",
              "     'startIndex': 15,\n",
              "     'text': \"I know what it is, but I haven't seen it\"}],\n",
              "   'speaker': 'USER',\n",
              "   'text': \"Never seen it. I know what it is, but I haven't seen it.\"},\n",
              "  {'index': 30,\n",
              "   'speaker': 'ASSISTANT',\n",
              "   'text': 'do you care who acts in the movie?'},\n",
              "  {'index': 31,\n",
              "   'speaker': 'USER',\n",
              "   'text': \"Just in general? I'm not I'm not picky about actors. Like I won't see a movie just cuz I don't like the actor in it.\"},\n",
              "  {'index': 32,\n",
              "   'speaker': 'ASSISTANT',\n",
              "   'text': 'oh ok so you dont have a favorite actor is that right'},\n",
              "  {'index': 33,\n",
              "   'speaker': 'USER',\n",
              "   'text': \"I mean I like certain actors more than others, but I wouldn't say I have a favorite actor.\"},\n",
              "  {'index': 34,\n",
              "   'speaker': 'ASSISTANT',\n",
              "   'text': 'ok who came to your mind when it comes to actors you like to see in the movie'},\n",
              "  {'index': 35,\n",
              "   'segments': [{'annotations': [{'annotationType': 'ENTITY_NAME',\n",
              "       'entityType': 'PERSON'}],\n",
              "     'endIndex': 31,\n",
              "     'startIndex': 22,\n",
              "     'text': 'Tom Hanks'}],\n",
              "   'speaker': 'ASSISTANT',\n",
              "   'text': 'what is your favorite Tom Hanks movie?'},\n",
              "  {'index': 36,\n",
              "   'segments': [{'annotations': [{'annotationType': 'ENTITY_NAME',\n",
              "       'entityType': 'MOVIE_OR_SERIES'},\n",
              "      {'annotationType': 'ENTITY_PREFERENCE',\n",
              "       'entityType': 'MOVIE_OR_SERIES'}],\n",
              "     'endIndex': 19,\n",
              "     'startIndex': 0,\n",
              "     'text': 'Catch Me If You Can'}],\n",
              "   'speaker': 'USER',\n",
              "   'text': 'Catch Me If You Can'},\n",
              "  {'index': 37,\n",
              "   'speaker': 'ASSISTANT',\n",
              "   'text': 'what so great about that movie'},\n",
              "  {'index': 38,\n",
              "   'segments': [{'annotations': [{'annotationType': 'ENTITY_NAME',\n",
              "       'entityType': 'PERSON'}],\n",
              "     'endIndex': 92,\n",
              "     'startIndex': 75,\n",
              "     'text': 'Leonardo Dicaprio'},\n",
              "    {'annotations': [{'annotationType': 'ENTITY_PREFERENCE',\n",
              "       'entityType': 'MOVIE_OR_SERIES'}],\n",
              "     'endIndex': 30,\n",
              "     'startIndex': 0,\n",
              "     'text': \"It's just an interesting story\"},\n",
              "    {'annotations': [{'annotationType': 'ENTITY_PREFERENCE',\n",
              "       'entityType': 'MOVIE_OR_SERIES'}],\n",
              "     'endIndex': 61,\n",
              "     'startIndex': 35,\n",
              "     'text': \"it's based on a true story\"},\n",
              "    {'annotations': [{'annotationType': 'ENTITY_PREFERENCE',\n",
              "       'entityType': 'MOVIE_OR_SERIES'}],\n",
              "     'endIndex': 118,\n",
              "     'startIndex': 66,\n",
              "     'text': \"it's got Leonardo Dicaprio in it, another good actor\"}],\n",
              "   'speaker': 'USER',\n",
              "   'text': \"It's just an interesting story and it's based on a true story and it's got Leonardo Dicaprio in it, another good actor.\"},\n",
              "  {'index': 39,\n",
              "   'speaker': 'ASSISTANT',\n",
              "   'text': 'do you think that movie is exciting?'},\n",
              "  {'index': 40,\n",
              "   'segments': [{'annotations': [{'annotationType': 'ENTITY_PREFERENCE',\n",
              "       'entityType': 'MOVIE_OR_SERIES'}],\n",
              "     'endIndex': 3,\n",
              "     'startIndex': 0,\n",
              "     'text': 'Yep'}],\n",
              "   'speaker': 'USER',\n",
              "   'text': 'Yep.'},\n",
              "  {'index': 41,\n",
              "   'speaker': 'ASSISTANT',\n",
              "   'text': 'which scene you find most memorable?'},\n",
              "  {'index': 42,\n",
              "   'segments': [{'annotations': [{'annotationType': 'ENTITY_OTHER',\n",
              "       'entityType': 'MOVIE_OR_SERIES'}],\n",
              "     'endIndex': 48,\n",
              "     'startIndex': 0,\n",
              "     'text': \"It's been a long time since I've seen that movie\"}],\n",
              "   'speaker': 'USER',\n",
              "   'text': \"It's been a long time since I've seen that movie. I can't think of any specific scene.\"}]}"
            ]
          },
          "metadata": {
            "tags": []
          },
          "execution_count": 6
        }
      ]
    },
    {
      "cell_type": "code",
      "metadata": {
        "id": "Iax39UJSLUzS"
      },
      "source": [
        "dialog_superset=[]\n",
        "for i in dataset:\n",
        "  user_dialog=[]\n",
        "  assistant_dialog=[]\n",
        "  j=0\n",
        "  last_speaker=None\n",
        "  while j<len(i['utterances']):\n",
        "    if i['utterances'][j]['speaker']=='ASSISTANT':\n",
        "      if last_speaker != 'ASSISTANT':\n",
        "        assistant_dialog.append(i['utterances'][j]['text'])\n",
        "        last_speaker='ASSISTANT'\n",
        "      else:\n",
        "        assistant_dialog[-1]=assistant_dialog[-1]+\" \"\n",
        "        assistant_dialog[-1]=assistant_dialog[-1]+i['utterances'][j]['text']\n",
        "        last_speaker='ASSISTANT'\n",
        "    elif i['utterances'][j]['speaker']=='USER':\n",
        "      if last_speaker != 'USER':\n",
        "        user_dialog.append(i['utterances'][j]['text'])\n",
        "        last_speaker='USER'\n",
        "      else:\n",
        "        user_dialog[-1] = user_dialog[-1] + \" \"\n",
        "        user_dialog[-1]= user_dialog[-1] +i['utterances'][j]['text']\n",
        "        last_speaker='USER'\n",
        "    j+=1\n",
        "  scene= list(map(lambda x, y:(x,y), assistant_dialog, user_dialog)) \n",
        "  dialog_superset.append(scene)\n",
        "\n",
        "\n",
        "      "
      ],
      "execution_count": 7,
      "outputs": []
    },
    {
      "cell_type": "code",
      "metadata": {
        "colab": {
          "base_uri": "https://localhost:8080/"
        },
        "id": "vqYNhzXwMRDf",
        "outputId": "72c461b7-1b86-47fe-9098-56ea6616ab6c"
      },
      "source": [
        "len(dialog_superset)"
      ],
      "execution_count": 8,
      "outputs": [
        {
          "output_type": "execute_result",
          "data": {
            "text/plain": [
              "502"
            ]
          },
          "metadata": {
            "tags": []
          },
          "execution_count": 8
        }
      ]
    },
    {
      "cell_type": "code",
      "metadata": {
        "id": "vKTraAblY8zT"
      },
      "source": [
        "dialogue_line_pairs=[]\n",
        "for dialogue_pairs in dialog_superset:\n",
        "  for i in dialogue_pairs:\n",
        "    dialogue_line_pairs.append([i[0],i[1]])"
      ],
      "execution_count": 9,
      "outputs": []
    },
    {
      "cell_type": "code",
      "metadata": {
        "id": "NDiuGBP_Y8zU"
      },
      "source": [
        "import pandas as pd\n",
        "df_dialogues = pd.DataFrame(dialogue_line_pairs, columns = ['Input', 'Output'])"
      ],
      "execution_count": 10,
      "outputs": []
    },
    {
      "cell_type": "code",
      "metadata": {
        "id": "28IFAtgAY8zU"
      },
      "source": [
        "df=df_dialogues"
      ],
      "execution_count": 11,
      "outputs": []
    },
    {
      "cell_type": "code",
      "metadata": {
        "colab": {
          "base_uri": "https://localhost:8080/"
        },
        "id": "dPrdkw3UItVB",
        "outputId": "9d7304ab-14eb-4d5b-cfc3-2f421fb1fcb8"
      },
      "source": [
        "df.shape"
      ],
      "execution_count": 12,
      "outputs": [
        {
          "output_type": "execute_result",
          "data": {
            "text/plain": [
              "(5202, 2)"
            ]
          },
          "metadata": {
            "tags": []
          },
          "execution_count": 12
        }
      ]
    },
    {
      "cell_type": "code",
      "metadata": {
        "colab": {
          "base_uri": "https://localhost:8080/"
        },
        "id": "boVVmkj0Sx41",
        "outputId": "eeaa4c83-487f-4e74-e7d2-b8d22d669c06"
      },
      "source": [
        "df.reset_index(drop=True, inplace=True)\r\n",
        "df.shape"
      ],
      "execution_count": 13,
      "outputs": [
        {
          "output_type": "execute_result",
          "data": {
            "text/plain": [
              "(5202, 2)"
            ]
          },
          "metadata": {
            "tags": []
          },
          "execution_count": 13
        }
      ]
    },
    {
      "cell_type": "code",
      "metadata": {
        "colab": {
          "base_uri": "https://localhost:8080/",
          "height": 202
        },
        "id": "zrnbRWjuUe1V",
        "outputId": "3b45dcd0-9a41-4f3b-d308-61ff2c595a05"
      },
      "source": [
        "df.tail()"
      ],
      "execution_count": 14,
      "outputs": [
        {
          "output_type": "execute_result",
          "data": {
            "text/html": [
              "<div>\n",
              "<style scoped>\n",
              "    .dataframe tbody tr th:only-of-type {\n",
              "        vertical-align: middle;\n",
              "    }\n",
              "\n",
              "    .dataframe tbody tr th {\n",
              "        vertical-align: top;\n",
              "    }\n",
              "\n",
              "    .dataframe thead th {\n",
              "        text-align: right;\n",
              "    }\n",
              "</style>\n",
              "<table border=\"1\" class=\"dataframe\">\n",
              "  <thead>\n",
              "    <tr style=\"text-align: right;\">\n",
              "      <th></th>\n",
              "      <th>Input</th>\n",
              "      <th>Output</th>\n",
              "    </tr>\n",
              "  </thead>\n",
              "  <tbody>\n",
              "    <tr>\n",
              "      <th>5197</th>\n",
              "      <td>have you seen Gone Girl?</td>\n",
              "      <td>No, I have not seen Gone Girl.</td>\n",
              "    </tr>\n",
              "    <tr>\n",
              "      <th>5198</th>\n",
              "      <td>how about Avatar?</td>\n",
              "      <td>I've seen Avatar.</td>\n",
              "    </tr>\n",
              "    <tr>\n",
              "      <th>5199</th>\n",
              "      <td>did you like it?</td>\n",
              "      <td>I did, Avatar was very well done.</td>\n",
              "    </tr>\n",
              "    <tr>\n",
              "      <th>5200</th>\n",
              "      <td>what did you like about it?</td>\n",
              "      <td>I liked the costuming, I liked the how realist...</td>\n",
              "    </tr>\n",
              "    <tr>\n",
              "      <th>5201</th>\n",
              "      <td>nice, it definitely was a big production</td>\n",
              "      <td>Totally huge, yes.</td>\n",
              "    </tr>\n",
              "  </tbody>\n",
              "</table>\n",
              "</div>"
            ],
            "text/plain": [
              "                                         Input                                             Output\n",
              "5197                  have you seen Gone Girl?                     No, I have not seen Gone Girl.\n",
              "5198                         how about Avatar?                                  I've seen Avatar.\n",
              "5199                          did you like it?                  I did, Avatar was very well done.\n",
              "5200               what did you like about it?  I liked the costuming, I liked the how realist...\n",
              "5201  nice, it definitely was a big production                                 Totally huge, yes."
            ]
          },
          "metadata": {
            "tags": []
          },
          "execution_count": 14
        }
      ]
    },
    {
      "cell_type": "code",
      "metadata": {
        "id": "luEP-YIfGrlF"
      },
      "source": [
        "## Define tokenization specs\r\n",
        "Input = data.Field(tokenize = 'spacy',\r\n",
        "            init_token='<sos>', \r\n",
        "            eos_token='<eos>', \r\n",
        "            lower=True)\r\n",
        "\r\n",
        "Output = data.Field(tokenize = 'spacy',\r\n",
        "                    init_token='<sos>', \r\n",
        "                    eos_token='<eos>', \r\n",
        "                    lower=True)\r\n",
        "#sequential = True, \r\n",
        "#Output = data.LabelField(tokenize ='spacy', is_target=True, batch_first =True, sequential =False)"
      ],
      "execution_count": 15,
      "outputs": []
    },
    {
      "cell_type": "code",
      "metadata": {
        "id": "I21aNlzEOcAV"
      },
      "source": [
        "fields = [('Input', Input),('Output',Output)]"
      ],
      "execution_count": 16,
      "outputs": []
    },
    {
      "cell_type": "code",
      "metadata": {
        "colab": {
          "base_uri": "https://localhost:8080/"
        },
        "id": "UdACBlToOcAW",
        "outputId": "76112952-1bd3-438d-c925-34054f2f9dc3"
      },
      "source": [
        "df.columns"
      ],
      "execution_count": 17,
      "outputs": [
        {
          "output_type": "execute_result",
          "data": {
            "text/plain": [
              "Index(['Input', 'Output'], dtype='object')"
            ]
          },
          "metadata": {
            "tags": []
          },
          "execution_count": 17
        }
      ]
    },
    {
      "cell_type": "code",
      "metadata": {
        "id": "-81eHwWZOcAW"
      },
      "source": [
        "example = [data.Example.fromlist([df.Input[i],df.Output[i]], fields) for i in range(df.shape[0])] "
      ],
      "execution_count": 18,
      "outputs": []
    },
    {
      "cell_type": "code",
      "metadata": {
        "id": "NTJbSrpFOcAY"
      },
      "source": [
        "DialogueDataset = data.Dataset(example, fields)"
      ],
      "execution_count": 19,
      "outputs": []
    },
    {
      "cell_type": "code",
      "metadata": {
        "id": "9mdknV61OcAY"
      },
      "source": [
        "# Split the data into train, val and test in 70/20/10 ratio\r\n",
        "(train_data, valid_data, test_data) = DialogueDataset.split(split_ratio=[0.70, 0.10, 0.20], random_state=random.seed(SEED))"
      ],
      "execution_count": 20,
      "outputs": []
    },
    {
      "cell_type": "code",
      "metadata": {
        "colab": {
          "base_uri": "https://localhost:8080/"
        },
        "id": "qHM8YYzPOcAY",
        "outputId": "f71e20c8-35c5-4c14-b49d-055463512647"
      },
      "source": [
        "(len(train_data), len(valid_data), len(test_data))"
      ],
      "execution_count": 21,
      "outputs": [
        {
          "output_type": "execute_result",
          "data": {
            "text/plain": [
              "(3641, 1041, 520)"
            ]
          },
          "metadata": {
            "tags": []
          },
          "execution_count": 21
        }
      ]
    },
    {
      "cell_type": "code",
      "metadata": {
        "colab": {
          "base_uri": "https://localhost:8080/"
        },
        "id": "xyS9uAwROcAZ",
        "outputId": "8442d40c-31a8-4b06-e9ae-8e27f563f590"
      },
      "source": [
        "print(vars(train_data.examples[1]))"
      ],
      "execution_count": 22,
      "outputs": [
        {
          "output_type": "stream",
          "text": [
            "{'Input': ['have', 'you', 'heard', 'of', 'this', 'movie', '?'], 'Output': ['i', 'do', \"n't\", 'think', 'so', '.']}\n"
          ],
          "name": "stdout"
        }
      ]
    },
    {
      "cell_type": "code",
      "metadata": {
        "id": "1IJURO-IOcAZ"
      },
      "source": [
        "# Build vocabulary from train data\r\n",
        "Input.build_vocab(train_data, min_freq=10)\r\n",
        "Output.build_vocab(train_data, min_freq=10)"
      ],
      "execution_count": 23,
      "outputs": []
    },
    {
      "cell_type": "code",
      "metadata": {
        "id": "OrTL3VfnOcAZ",
        "colab": {
          "base_uri": "https://localhost:8080/"
        },
        "outputId": "0e38f2ee-a347-4c42-e328-1a1a566885f5"
      },
      "source": [
        "device = torch.device(\"cuda\" if torch.cuda.is_available() else \"cpu\")\r\n",
        "device"
      ],
      "execution_count": 24,
      "outputs": [
        {
          "output_type": "execute_result",
          "data": {
            "text/plain": [
              "device(type='cuda')"
            ]
          },
          "metadata": {
            "tags": []
          },
          "execution_count": 24
        }
      ]
    },
    {
      "cell_type": "code",
      "metadata": {
        "id": "ABEyDdPkOcAZ"
      },
      "source": [
        "BATCH_SIZE = 128\r\n",
        "train_iterator, valid_iterator, test_iterator = BucketIterator.splits((train_data, valid_data, test_data), batch_size = BATCH_SIZE, \r\n",
        "                                                            sort_key = lambda x: len(x.Input),\r\n",
        "                                                            sort_within_batch=True, device = device)"
      ],
      "execution_count": 25,
      "outputs": []
    },
    {
      "cell_type": "markdown",
      "metadata": {
        "id": "rD1fj0R39ejE"
      },
      "source": [
        "Set the random seeds for reproducability."
      ]
    },
    {
      "cell_type": "markdown",
      "metadata": {
        "id": "QP5s8Vov9ejF"
      },
      "source": [
        "## Building the Seq2Seq Model\n",
        "\n",
        "### Encoder\n",
        "\n",
        "First, we'll build the encoder. Similar to the previous model, we only use a single layer GRU, however we now use a *bidirectional RNN*. With a bidirectional RNN, we have two RNNs in each layer. A *forward RNN* going over the embedded sentence from left to right (shown below in green), and a *backward RNN* going over the embedded sentence from right to left (teal). All we need to do in code is set `bidirectional = True` and then pass the embedded sentence to the RNN as before. \n",
        "\n",
        "![](https://github.com/bentrevett/pytorch-seq2seq/blob/master/assets/seq2seq8.png?raw=1)\n",
        "\n",
        "We now have:\n",
        "\n",
        "$$\\begin{align*}\n",
        "h_t^\\rightarrow &= \\text{EncoderGRU}^\\rightarrow(e(x_t^\\rightarrow),h_{t-1}^\\rightarrow)\\\\\n",
        "h_t^\\leftarrow &= \\text{EncoderGRU}^\\leftarrow(e(x_t^\\leftarrow),h_{t-1}^\\leftarrow)\n",
        "\\end{align*}$$\n",
        "\n",
        "Where $x_0^\\rightarrow = \\text{<sos>}, x_1^\\rightarrow = \\text{guten}$ and $x_0^\\leftarrow = \\text{<eos>}, x_1^\\leftarrow = \\text{morgen}$.\n",
        "\n",
        "As before, we only pass an input (`embedded`) to the RNN, which tells PyTorch to initialize both the forward and backward initial hidden states ($h_0^\\rightarrow$ and $h_0^\\leftarrow$, respectively) to a tensor of all zeros. We'll also get two context vectors, one from the forward RNN after it has seen the final word in the sentence, $z^\\rightarrow=h_T^\\rightarrow$, and one from the backward RNN after it has seen the first word in the sentence, $z^\\leftarrow=h_T^\\leftarrow$.\n",
        "\n",
        "The RNN returns `outputs` and `hidden`. \n",
        "\n",
        "`outputs` is of size **[src len, batch size, hid dim * num directions]** where the first `hid_dim` elements in the third axis are the hidden states from the top layer forward RNN, and the last `hid_dim` elements are hidden states from the top layer backward RNN. We can think of the third axis as being the forward and backward hidden states concatenated together other, i.e. $h_1 = [h_1^\\rightarrow; h_{T}^\\leftarrow]$, $h_2 = [h_2^\\rightarrow; h_{T-1}^\\leftarrow]$ and we can denote all encoder hidden states (forward and backwards concatenated together) as $H=\\{ h_1, h_2, ..., h_T\\}$.\n",
        "\n",
        "`hidden` is of size **[n layers * num directions, batch size, hid dim]**, where **[-2, :, :]** gives the top layer forward RNN hidden state after the final time-step (i.e. after it has seen the last word in the sentence) and **[-1, :, :]** gives the top layer backward RNN hidden state after the final time-step (i.e. after it has seen the first word in the sentence).\n",
        "\n",
        "As the decoder is not bidirectional, it only needs a single context vector, $z$, to use as its initial hidden state, $s_0$, and we currently have two, a forward and a backward one ($z^\\rightarrow=h_T^\\rightarrow$ and $z^\\leftarrow=h_T^\\leftarrow$, respectively). We solve this by concatenating the two context vectors together, passing them through a linear layer, $g$, and applying the $\\tanh$ activation function. \n",
        "\n",
        "$$z=\\tanh(g(h_T^\\rightarrow, h_T^\\leftarrow)) = \\tanh(g(z^\\rightarrow, z^\\leftarrow)) = s_0$$\n",
        "\n",
        "**Note**: this is actually a deviation from the paper. Instead, they feed only the first backward RNN hidden state through a linear layer to get the context vector/decoder initial hidden state. This doesn't seem to make sense to me, so we have changed it.\n",
        "\n",
        "As we want our model to look back over the whole of the source sentence we return `outputs`, the stacked forward and backward hidden states for every token in the source sentence. We also return `hidden`, which acts as our initial hidden state in the decoder."
      ]
    },
    {
      "cell_type": "code",
      "metadata": {
        "id": "Y8ovMJ3_9ejF"
      },
      "source": [
        "class Encoder(nn.Module):\n",
        "    def __init__(self, input_dim, emb_dim, enc_hid_dim, dec_hid_dim, dropout):\n",
        "        super().__init__()\n",
        "        \n",
        "        self.embedding = nn.Embedding(input_dim, emb_dim)\n",
        "        \n",
        "        self.rnn = nn.GRU(emb_dim, enc_hid_dim, bidirectional = True)\n",
        "        \n",
        "        self.fc = nn.Linear(enc_hid_dim * 2, dec_hid_dim)\n",
        "        \n",
        "        self.dropout = nn.Dropout(dropout)\n",
        "        \n",
        "    def forward(self, src):\n",
        "        \n",
        "        #src = [src len, batch size]\n",
        "        \n",
        "        embedded = self.dropout(self.embedding(src))\n",
        "        \n",
        "        #embedded = [src len, batch size, emb dim]\n",
        "        \n",
        "        outputs, hidden = self.rnn(embedded)\n",
        "                \n",
        "        #outputs = [src len, batch size, hid dim * num directions]\n",
        "        #hidden = [n layers * num directions, batch size, hid dim]\n",
        "        \n",
        "        #hidden is stacked [forward_1, backward_1, forward_2, backward_2, ...]\n",
        "        #outputs are always from the last layer\n",
        "        \n",
        "        #hidden [-2, :, : ] is the last of the forwards RNN \n",
        "        #hidden [-1, :, : ] is the last of the backwards RNN\n",
        "        \n",
        "        #initial decoder hidden is final hidden state of the forwards and backwards \n",
        "        #  encoder RNNs fed through a linear layer\n",
        "        hidden = torch.tanh(self.fc(torch.cat((hidden[-2,:,:], hidden[-1,:,:]), dim = 1)))\n",
        "        \n",
        "        #outputs = [src len, batch size, enc hid dim * 2]\n",
        "        #hidden = [batch size, dec hid dim]\n",
        "        \n",
        "        return outputs, hidden"
      ],
      "execution_count": 26,
      "outputs": []
    },
    {
      "cell_type": "markdown",
      "metadata": {
        "id": "o9WNKZ4D9ejF"
      },
      "source": [
        "### Attention\n",
        "\n",
        "Next up is the attention layer. This will take in the previous hidden state of the decoder, $s_{t-1}$, and all of the stacked forward and backward hidden states from the encoder, $H$. The layer will output an attention vector, $a_t$, that is the length of the source sentence, each element is between 0 and 1 and the entire vector sums to 1.\n",
        "\n",
        "Intuitively, this layer takes what we have decoded so far, $s_{t-1}$, and all of what we have encoded, $H$, to produce a vector, $a_t$, that represents which words in the source sentence we should pay the most attention to in order to correctly predict the next word to decode, $\\hat{y}_{t+1}$. \n",
        "\n",
        "First, we calculate the *energy* between the previous decoder hidden state and the encoder hidden states. As our encoder hidden states are a sequence of $T$ tensors, and our previous decoder hidden state is a single tensor, the first thing we do is `repeat` the previous decoder hidden state $T$ times. We then calculate the energy, $E_t$, between them by concatenating them together and passing them through a linear layer (`attn`) and a $\\tanh$ activation function. \n",
        "\n",
        "$$E_t = \\tanh(\\text{attn}(s_{t-1}, H))$$ \n",
        "\n",
        "This can be thought of as calculating how well each encoder hidden state \"matches\" the previous decoder hidden state.\n",
        "\n",
        "We currently have a **[dec hid dim, src len]** tensor for each example in the batch. We want this to be **[src len]** for each example in the batch as the attention should be over the length of the source sentence. This is achieved by multiplying the `energy` by a **[1, dec hid dim]** tensor, $v$.\n",
        "\n",
        "$$\\hat{a}_t = v E_t$$\n",
        "\n",
        "We can think of $v$ as the weights for a weighted sum of the energy across all encoder hidden states. These weights tell us how much we should attend to each token in the source sequence. The parameters of $v$ are initialized randomly, but learned with the rest of the model via backpropagation. Note how $v$ is not dependent on time, and the same $v$ is used for each time-step of the decoding. We implement $v$ as a linear layer without a bias.\n",
        "\n",
        "Finally, we ensure the attention vector fits the constraints of having all elements between 0 and 1 and the vector summing to 1 by passing it through a $\\text{softmax}$ layer.\n",
        "\n",
        "$$a_t = \\text{softmax}(\\hat{a_t})$$\n",
        "\n",
        "This gives us the attention over the source sentence!\n",
        "\n",
        "Graphically, this looks something like below. This is for calculating the very first attention vector, where $s_{t-1} = s_0 = z$. The green/teal blocks represent the hidden states from both the forward and backward RNNs, and the attention computation is all done within the pink block.\n",
        "\n",
        "![](https://github.com/bentrevett/pytorch-seq2seq/blob/master/assets/seq2seq9.png?raw=1)"
      ]
    },
    {
      "cell_type": "code",
      "metadata": {
        "id": "7yXR6Qbg9ejF"
      },
      "source": [
        "class Attention(nn.Module):\n",
        "    def __init__(self, enc_hid_dim, dec_hid_dim):\n",
        "        super().__init__()\n",
        "        \n",
        "        self.attn = nn.Linear((enc_hid_dim * 2) + dec_hid_dim, dec_hid_dim)\n",
        "        self.v = nn.Linear(dec_hid_dim, 1, bias = False)\n",
        "        \n",
        "    def forward(self, hidden, encoder_outputs):\n",
        "        \n",
        "        #hidden = [batch size, dec hid dim]\n",
        "        #encoder_outputs = [src len, batch size, enc hid dim * 2]\n",
        "        \n",
        "        batch_size = encoder_outputs.shape[1]\n",
        "        src_len = encoder_outputs.shape[0]\n",
        "        \n",
        "        #repeat decoder hidden state src_len times\n",
        "        hidden = hidden.unsqueeze(1).repeat(1, src_len, 1)\n",
        "        \n",
        "        encoder_outputs = encoder_outputs.permute(1, 0, 2)\n",
        "        \n",
        "        #hidden = [batch size, src len, dec hid dim]\n",
        "        #encoder_outputs = [batch size, src len, enc hid dim * 2]\n",
        "        \n",
        "        energy = torch.tanh(self.attn(torch.cat((hidden, encoder_outputs), dim = 2))) \n",
        "        \n",
        "        #energy = [batch size, src len, dec hid dim]\n",
        "\n",
        "        attention = self.v(energy).squeeze(2)\n",
        "        \n",
        "        #attention= [batch size, src len]\n",
        "        \n",
        "        return F.softmax(attention, dim=1)"
      ],
      "execution_count": 27,
      "outputs": []
    },
    {
      "cell_type": "markdown",
      "metadata": {
        "id": "pb-p1mhO9ejF"
      },
      "source": [
        "### Decoder\n",
        "\n",
        "Next up is the decoder. \n",
        "\n",
        "The decoder contains the attention layer, `attention`, which takes the previous hidden state, $s_{t-1}$, all of the encoder hidden states, $H$, and returns the attention vector, $a_t$.\n",
        "\n",
        "We then use this attention vector to create a weighted source vector, $w_t$, denoted by `weighted`, which is a weighted sum of the encoder hidden states, $H$, using $a_t$ as the weights.\n",
        "\n",
        "$$w_t = a_t H$$\n",
        "\n",
        "The embedded input word, $d(y_t)$, the weighted source vector, $w_t$, and the previous decoder hidden state, $s_{t-1}$, are then all passed into the decoder RNN, with $d(y_t)$ and $w_t$ being concatenated together.\n",
        "\n",
        "$$s_t = \\text{DecoderGRU}(d(y_t), w_t, s_{t-1})$$\n",
        "\n",
        "We then pass $d(y_t)$, $w_t$ and $s_t$ through the linear layer, $f$, to make a prediction of the next word in the target sentence, $\\hat{y}_{t+1}$. This is done by concatenating them all together.\n",
        "\n",
        "$$\\hat{y}_{t+1} = f(d(y_t), w_t, s_t)$$\n",
        "\n",
        "The image below shows decoding the first word in an example translation.\n",
        "\n",
        "![](https://github.com/bentrevett/pytorch-seq2seq/blob/master/assets/seq2seq10.png?raw=1)\n",
        "\n",
        "The green/teal blocks show the forward/backward encoder RNNs which output $H$, the red block shows the context vector, $z = h_T = \\tanh(g(h^\\rightarrow_T,h^\\leftarrow_T)) = \\tanh(g(z^\\rightarrow, z^\\leftarrow)) = s_0$, the blue block shows the decoder RNN which outputs $s_t$, the purple block shows the linear layer, $f$, which outputs $\\hat{y}_{t+1}$ and the orange block shows the calculation of the weighted sum over $H$ by $a_t$ and outputs $w_t$. Not shown is the calculation of $a_t$."
      ]
    },
    {
      "cell_type": "code",
      "metadata": {
        "id": "5wg3PolD9ejF"
      },
      "source": [
        "class Decoder(nn.Module):\n",
        "    def __init__(self, output_dim, emb_dim, enc_hid_dim, dec_hid_dim, dropout, attention):\n",
        "        super().__init__()\n",
        "\n",
        "        self.output_dim = output_dim\n",
        "        self.attention = attention\n",
        "        \n",
        "        self.embedding = nn.Embedding(output_dim, emb_dim)\n",
        "        \n",
        "        self.rnn = nn.GRU((enc_hid_dim * 2) + emb_dim, dec_hid_dim)\n",
        "        \n",
        "        self.fc_out = nn.Linear((enc_hid_dim * 2) + dec_hid_dim + emb_dim, output_dim)\n",
        "        \n",
        "        self.dropout = nn.Dropout(dropout)\n",
        "        \n",
        "    def forward(self, input, hidden, encoder_outputs):\n",
        "             \n",
        "        #input = [batch size]\n",
        "        #hidden = [batch size, dec hid dim]\n",
        "        #encoder_outputs = [src len, batch size, enc hid dim * 2]\n",
        "        \n",
        "        input = input.unsqueeze(0)\n",
        "        \n",
        "        #input = [1, batch size]\n",
        "        \n",
        "        embedded = self.dropout(self.embedding(input))\n",
        "        \n",
        "        #embedded = [1, batch size, emb dim]\n",
        "        \n",
        "        a = self.attention(hidden, encoder_outputs)\n",
        "                \n",
        "        #a = [batch size, src len]\n",
        "        \n",
        "        a = a.unsqueeze(1)\n",
        "        \n",
        "        #a = [batch size, 1, src len]\n",
        "        \n",
        "        encoder_outputs = encoder_outputs.permute(1, 0, 2)\n",
        "        \n",
        "        #encoder_outputs = [batch size, src len, enc hid dim * 2]\n",
        "        \n",
        "        weighted = torch.bmm(a, encoder_outputs)\n",
        "        \n",
        "        #weighted = [batch size, 1, enc hid dim * 2]\n",
        "        \n",
        "        weighted = weighted.permute(1, 0, 2)\n",
        "        \n",
        "        #weighted = [1, batch size, enc hid dim * 2]\n",
        "        \n",
        "        rnn_input = torch.cat((embedded, weighted), dim = 2)\n",
        "        \n",
        "        #rnn_input = [1, batch size, (enc hid dim * 2) + emb dim]\n",
        "            \n",
        "        output, hidden = self.rnn(rnn_input, hidden.unsqueeze(0))\n",
        "        \n",
        "        #output = [seq len, batch size, dec hid dim * n directions]\n",
        "        #hidden = [n layers * n directions, batch size, dec hid dim]\n",
        "        \n",
        "        #seq len, n layers and n directions will always be 1 in this decoder, therefore:\n",
        "        #output = [1, batch size, dec hid dim]\n",
        "        #hidden = [1, batch size, dec hid dim]\n",
        "        #this also means that output == hidden\n",
        "        assert (output == hidden).all()\n",
        "        \n",
        "        embedded = embedded.squeeze(0)\n",
        "        output = output.squeeze(0)\n",
        "        weighted = weighted.squeeze(0)\n",
        "        \n",
        "        prediction = self.fc_out(torch.cat((output, weighted, embedded), dim = 1))\n",
        "        \n",
        "        #prediction = [batch size, output dim]\n",
        "        \n",
        "        return prediction, hidden.squeeze(0)"
      ],
      "execution_count": 28,
      "outputs": []
    },
    {
      "cell_type": "markdown",
      "metadata": {
        "id": "gj7DZYQD9ejF"
      },
      "source": [
        "### Seq2Seq\n",
        "\n",
        "This is the first model where we don't have to have the encoder RNN and decoder RNN have the same hidden dimensions, however the encoder has to be bidirectional. This requirement can be removed by changing all occurences of `enc_dim * 2` to `enc_dim * 2 if encoder_is_bidirectional else enc_dim`. \n",
        "\n",
        "This seq2seq encapsulator is similar to the last two. The only difference is that the `encoder` returns both the final hidden state (which is the final hidden state from both the forward and backward encoder RNNs passed through a linear layer) to be used as the initial hidden state for the decoder, as well as every hidden state (which are the forward and backward hidden states stacked on top of each other). We also need to ensure that `hidden` and `encoder_outputs` are passed to the decoder. \n",
        "\n",
        "Briefly going over all of the steps:\n",
        "- the `outputs` tensor is created to hold all predictions, $\\hat{Y}$\n",
        "- the source sequence, $X$, is fed into the encoder to receive $z$ and $H$\n",
        "- the initial decoder hidden state is set to be the `context` vector, $s_0 = z = h_T$\n",
        "- we use a batch of `<sos>` tokens as the first `input`, $y_1$\n",
        "- we then decode within a loop:\n",
        "  - inserting the input token $y_t$, previous hidden state, $s_{t-1}$, and all encoder outputs, $H$, into the decoder\n",
        "  - receiving a prediction, $\\hat{y}_{t+1}$, and a new hidden state, $s_t$\n",
        "  - we then decide if we are going to teacher force or not, setting the next input as appropriate"
      ]
    },
    {
      "cell_type": "code",
      "metadata": {
        "id": "UEkTIixA9ejF"
      },
      "source": [
        "class Seq2Seq(nn.Module):\n",
        "    def __init__(self, encoder, decoder, device):\n",
        "        super().__init__()\n",
        "        \n",
        "        self.encoder = encoder\n",
        "        self.decoder = decoder\n",
        "        self.device = device\n",
        "        \n",
        "    def forward(self, src, trg, teacher_forcing_ratio = 0.5):\n",
        "        \n",
        "        #src = [src len, batch size]\n",
        "        #trg = [trg len, batch size]\n",
        "        #teacher_forcing_ratio is probability to use teacher forcing\n",
        "        #e.g. if teacher_forcing_ratio is 0.75 we use teacher forcing 75% of the time\n",
        "        \n",
        "        batch_size = src.shape[1]\n",
        "        trg_len = trg.shape[0]\n",
        "        trg_vocab_size = self.decoder.output_dim\n",
        "        \n",
        "        #tensor to store decoder outputs\n",
        "        outputs = torch.zeros(trg_len, batch_size, trg_vocab_size).to(self.device)\n",
        "        \n",
        "        #encoder_outputs is all hidden states of the input sequence, back and forwards\n",
        "        #hidden is the final forward and backward hidden states, passed through a linear layer\n",
        "        encoder_outputs, hidden = self.encoder(src)\n",
        "                \n",
        "        #first input to the decoder is the <sos> tokens\n",
        "        input = trg[0,:]\n",
        "        \n",
        "        for t in range(1, trg_len):\n",
        "            \n",
        "            #insert input token embedding, previous hidden state and all encoder hidden states\n",
        "            #receive output tensor (predictions) and new hidden state\n",
        "            output, hidden = self.decoder(input, hidden, encoder_outputs)\n",
        "            \n",
        "            #place predictions in a tensor holding predictions for each token\n",
        "            outputs[t] = output\n",
        "            \n",
        "            #decide if we are going to use teacher forcing or not\n",
        "            teacher_force = random.random() < teacher_forcing_ratio\n",
        "            \n",
        "            #get the highest predicted token from our predictions\n",
        "            top1 = output.argmax(1) \n",
        "            \n",
        "            #if teacher forcing, use actual next token as next input\n",
        "            #if not, use predicted token\n",
        "            input = trg[t] if teacher_force else top1\n",
        "\n",
        "        return outputs"
      ],
      "execution_count": 29,
      "outputs": []
    },
    {
      "cell_type": "markdown",
      "metadata": {
        "id": "cXyLKEkh9ejF"
      },
      "source": [
        "## Training the Seq2Seq Model\n",
        "\n",
        "The rest of this session is very similar to the previous one.\n",
        "\n",
        "We initialise our parameters, encoder, decoder and seq2seq model (placing it on the GPU if we have one). "
      ]
    },
    {
      "cell_type": "code",
      "metadata": {
        "id": "f7FRQ8UR9ejF"
      },
      "source": [
        "#INPUT_DIM = len(SRC.vocab)\n",
        "#OUTPUT_DIM = len(TRG.vocab)\n",
        "INPUT_DIM = len(Input.vocab)\n",
        "OUTPUT_DIM = len(Output.vocab)\n",
        "ENC_EMB_DIM = 256\n",
        "DEC_EMB_DIM = 256\n",
        "ENC_HID_DIM = 512\n",
        "DEC_HID_DIM = 512\n",
        "ENC_DROPOUT = 0.3\n",
        "DEC_DROPOUT = 0.3\n",
        "\n",
        "attn = Attention(ENC_HID_DIM, DEC_HID_DIM)\n",
        "enc = Encoder(INPUT_DIM, ENC_EMB_DIM, ENC_HID_DIM, DEC_HID_DIM, ENC_DROPOUT)\n",
        "dec = Decoder(OUTPUT_DIM, DEC_EMB_DIM, ENC_HID_DIM, DEC_HID_DIM, DEC_DROPOUT, attn)\n",
        "\n",
        "model = Seq2Seq(enc, dec, device).to(device)"
      ],
      "execution_count": 30,
      "outputs": []
    },
    {
      "cell_type": "markdown",
      "metadata": {
        "id": "Ux1sNqPk9ejF"
      },
      "source": [
        "We use a simplified version of the weight initialization scheme used in the paper. Here, we will initialize all biases to zero and all weights from $\\mathcal{N}(0, 0.01)$."
      ]
    },
    {
      "cell_type": "code",
      "metadata": {
        "id": "YXaq2o559ejF",
        "colab": {
          "base_uri": "https://localhost:8080/"
        },
        "outputId": "5af3953c-2363-45e6-b031-7d5196ef1a51"
      },
      "source": [
        "def init_weights(m):\n",
        "    for name, param in m.named_parameters():\n",
        "        if 'weight' in name:\n",
        "            nn.init.normal_(param.data, mean=0, std=0.01)\n",
        "        else:\n",
        "            nn.init.constant_(param.data, 0)\n",
        "            \n",
        "model.apply(init_weights)"
      ],
      "execution_count": 31,
      "outputs": [
        {
          "output_type": "execute_result",
          "data": {
            "text/plain": [
              "Seq2Seq(\n",
              "  (encoder): Encoder(\n",
              "    (embedding): Embedding(240, 256)\n",
              "    (rnn): GRU(256, 512, bidirectional=True)\n",
              "    (fc): Linear(in_features=1024, out_features=512, bias=True)\n",
              "    (dropout): Dropout(p=0.3, inplace=False)\n",
              "  )\n",
              "  (decoder): Decoder(\n",
              "    (attention): Attention(\n",
              "      (attn): Linear(in_features=1536, out_features=512, bias=True)\n",
              "      (v): Linear(in_features=512, out_features=1, bias=False)\n",
              "    )\n",
              "    (embedding): Embedding(634, 256)\n",
              "    (rnn): GRU(1280, 512)\n",
              "    (fc_out): Linear(in_features=1792, out_features=634, bias=True)\n",
              "    (dropout): Dropout(p=0.3, inplace=False)\n",
              "  )\n",
              ")"
            ]
          },
          "metadata": {
            "tags": []
          },
          "execution_count": 31
        }
      ]
    },
    {
      "cell_type": "markdown",
      "metadata": {
        "id": "ij9nRbgx9ejH"
      },
      "source": [
        "Calculate the number of parameters. We get an increase of almost 50% in the amount of parameters from the last model. "
      ]
    },
    {
      "cell_type": "code",
      "metadata": {
        "id": "2oAsDCtJ9ejH",
        "colab": {
          "base_uri": "https://localhost:8080/"
        },
        "outputId": "999b8c97-19a1-44cc-f4e9-b08faf447d75"
      },
      "source": [
        "def count_parameters(model):\n",
        "    return sum(p.numel() for p in model.parameters() if p.requires_grad)\n",
        "\n",
        "print(f'The model has {count_parameters(model):,} trainable parameters')"
      ],
      "execution_count": 32,
      "outputs": [
        {
          "output_type": "stream",
          "text": [
            "The model has 7,793,786 trainable parameters\n"
          ],
          "name": "stdout"
        }
      ]
    },
    {
      "cell_type": "markdown",
      "metadata": {
        "id": "h-C9PF1d9ejH"
      },
      "source": [
        "We create an optimizer."
      ]
    },
    {
      "cell_type": "code",
      "metadata": {
        "id": "ox4JAgEE9ejH"
      },
      "source": [
        "optimizer = optim.Adam(model.parameters())"
      ],
      "execution_count": 33,
      "outputs": []
    },
    {
      "cell_type": "markdown",
      "metadata": {
        "id": "A5FzwRlz9ejH"
      },
      "source": [
        "We initialize the loss function."
      ]
    },
    {
      "cell_type": "code",
      "metadata": {
        "id": "0iAv-6As9ejH"
      },
      "source": [
        "#TRG_PAD_IDX = TRG.vocab.stoi[TRG.pad_token]\n",
        "\n",
        "TRG_PAD_IDX = Output.vocab.stoi[Output.pad_token]\n",
        "criterion = nn.CrossEntropyLoss(ignore_index = TRG_PAD_IDX)"
      ],
      "execution_count": 34,
      "outputs": []
    },
    {
      "cell_type": "markdown",
      "metadata": {
        "id": "-bzv6baC9ejH"
      },
      "source": [
        "We then create the training loop..."
      ]
    },
    {
      "cell_type": "code",
      "metadata": {
        "id": "bYPFqH6a9ejH"
      },
      "source": [
        "def train(model, iterator, optimizer, criterion, clip):\n",
        "    \n",
        "    model.train()\n",
        "    \n",
        "    epoch_loss = 0\n",
        "    \n",
        "    for i, batch in enumerate(iterator):\n",
        "        \n",
        "        #src = batch.src\n",
        "        #trg = batch.trg\n",
        "        src = batch.Input\n",
        "        trg = batch.Output\n",
        "        \n",
        "        optimizer.zero_grad()\n",
        "        \n",
        "        output = model(src, trg)\n",
        "        \n",
        "        #trg = [trg len, batch size]\n",
        "        #output = [trg len, batch size, output dim]\n",
        "        \n",
        "        output_dim = output.shape[-1]\n",
        "        \n",
        "        output = output[1:].view(-1, output_dim)\n",
        "        trg = trg[1:].view(-1)\n",
        "        \n",
        "        #trg = [(trg len - 1) * batch size]\n",
        "        #output = [(trg len - 1) * batch size, output dim]\n",
        "        \n",
        "        loss = criterion(output, trg)\n",
        "        \n",
        "        loss.backward()\n",
        "        \n",
        "        torch.nn.utils.clip_grad_norm_(model.parameters(), clip)\n",
        "        \n",
        "        optimizer.step()\n",
        "        \n",
        "        epoch_loss += loss.item()\n",
        "        \n",
        "    return epoch_loss / len(iterator)"
      ],
      "execution_count": 35,
      "outputs": []
    },
    {
      "cell_type": "markdown",
      "metadata": {
        "id": "sNawOMJD9ejH"
      },
      "source": [
        "...and the evaluation loop, remembering to set the model to `eval` mode and turn off teaching forcing."
      ]
    },
    {
      "cell_type": "code",
      "metadata": {
        "id": "AQotLtCi9ejH"
      },
      "source": [
        "def evaluate(model, iterator, criterion):\n",
        "    \n",
        "    model.eval()\n",
        "    \n",
        "    epoch_loss = 0\n",
        "    \n",
        "    with torch.no_grad():\n",
        "    \n",
        "        for i, batch in enumerate(iterator):\n",
        "\n",
        "            #src = batch.src\n",
        "            #trg = batch.trg\n",
        "            src = batch.Input\n",
        "            trg = batch.Output\n",
        "\n",
        "            output = model(src, trg, 0) #turn off teacher forcing\n",
        "\n",
        "            #trg = [trg len, batch size]\n",
        "            #output = [trg len, batch size, output dim]\n",
        "\n",
        "            output_dim = output.shape[-1]\n",
        "            \n",
        "            output = output[1:].view(-1, output_dim)\n",
        "            trg = trg[1:].view(-1)\n",
        "\n",
        "            #trg = [(trg len - 1) * batch size]\n",
        "            #output = [(trg len - 1) * batch size, output dim]\n",
        "\n",
        "            loss = criterion(output, trg)\n",
        "\n",
        "            epoch_loss += loss.item()\n",
        "        \n",
        "    return epoch_loss / len(iterator)"
      ],
      "execution_count": 36,
      "outputs": []
    },
    {
      "cell_type": "markdown",
      "metadata": {
        "id": "4_TUjr1O9ejH"
      },
      "source": [
        "Finally, define a timing function."
      ]
    },
    {
      "cell_type": "code",
      "metadata": {
        "id": "_UMyHEYS9ejH"
      },
      "source": [
        "def epoch_time(start_time, end_time):\n",
        "    elapsed_time = end_time - start_time\n",
        "    elapsed_mins = int(elapsed_time / 60)\n",
        "    elapsed_secs = int(elapsed_time - (elapsed_mins * 60))\n",
        "    return elapsed_mins, elapsed_secs"
      ],
      "execution_count": 37,
      "outputs": []
    },
    {
      "cell_type": "markdown",
      "metadata": {
        "id": "wYKIfYvY9ejH"
      },
      "source": [
        "Then, we train our model, saving the parameters that give us the best validation loss."
      ]
    },
    {
      "cell_type": "code",
      "metadata": {
        "id": "V2-2b9-W9ejH",
        "colab": {
          "base_uri": "https://localhost:8080/"
        },
        "outputId": "d3889067-9aad-4ab0-8ff1-46836566ad4d"
      },
      "source": [
        "N_EPOCHS = 10\n",
        "CLIP = 1\n",
        "\n",
        "best_valid_loss = float('inf')\n",
        "\n",
        "for epoch in range(N_EPOCHS):\n",
        "    \n",
        "    start_time = time.time()\n",
        "    \n",
        "    train_loss = train(model, train_iterator, optimizer, criterion, CLIP)\n",
        "    valid_loss = evaluate(model, valid_iterator, criterion)\n",
        "    \n",
        "    end_time = time.time()\n",
        "    \n",
        "    epoch_mins, epoch_secs = epoch_time(start_time, end_time)\n",
        "    \n",
        "    if valid_loss < best_valid_loss:\n",
        "        best_valid_loss = valid_loss\n",
        "        torch.save(model.state_dict(), 'tut3-model.pt')\n",
        "    \n",
        "    print(f'Epoch: {epoch+1:02} | Time: {epoch_mins}m {epoch_secs}s')\n",
        "    print(f'\\tTrain Loss: {train_loss:.3f} | Train PPL: {math.exp(train_loss):7.3f}')\n",
        "    print(f'\\t Val. Loss: {valid_loss:.3f} |  Val. PPL: {math.exp(valid_loss):7.3f}')"
      ],
      "execution_count": 38,
      "outputs": [
        {
          "output_type": "stream",
          "text": [
            "Epoch: 01 | Time: 0m 16s\n",
            "\tTrain Loss: 5.135 | Train PPL: 169.941\n",
            "\t Val. Loss: 4.656 |  Val. PPL: 105.196\n",
            "Epoch: 02 | Time: 0m 15s\n",
            "\tTrain Loss: 4.634 | Train PPL: 102.897\n",
            "\t Val. Loss: 4.606 |  Val. PPL: 100.076\n",
            "Epoch: 03 | Time: 0m 16s\n",
            "\tTrain Loss: 4.458 | Train PPL:  86.276\n",
            "\t Val. Loss: 4.603 |  Val. PPL:  99.745\n",
            "Epoch: 04 | Time: 0m 15s\n",
            "\tTrain Loss: 4.283 | Train PPL:  72.468\n",
            "\t Val. Loss: 4.636 |  Val. PPL: 103.084\n",
            "Epoch: 05 | Time: 0m 15s\n",
            "\tTrain Loss: 4.170 | Train PPL:  64.727\n",
            "\t Val. Loss: 4.646 |  Val. PPL: 104.201\n",
            "Epoch: 06 | Time: 0m 15s\n",
            "\tTrain Loss: 4.071 | Train PPL:  58.625\n",
            "\t Val. Loss: 4.642 |  Val. PPL: 103.760\n",
            "Epoch: 07 | Time: 0m 15s\n",
            "\tTrain Loss: 4.057 | Train PPL:  57.814\n",
            "\t Val. Loss: 4.637 |  Val. PPL: 103.271\n",
            "Epoch: 08 | Time: 0m 15s\n",
            "\tTrain Loss: 4.041 | Train PPL:  56.907\n",
            "\t Val. Loss: 4.562 |  Val. PPL:  95.759\n",
            "Epoch: 09 | Time: 0m 16s\n",
            "\tTrain Loss: 3.969 | Train PPL:  52.911\n",
            "\t Val. Loss: 4.597 |  Val. PPL:  99.166\n",
            "Epoch: 10 | Time: 0m 16s\n",
            "\tTrain Loss: 3.942 | Train PPL:  51.505\n",
            "\t Val. Loss: 4.565 |  Val. PPL:  96.069\n"
          ],
          "name": "stdout"
        }
      ]
    },
    {
      "cell_type": "markdown",
      "metadata": {
        "id": "zJm2KZKW9ejI"
      },
      "source": [
        "Finally, we test the model on the test set using these \"best\" parameters."
      ]
    },
    {
      "cell_type": "code",
      "metadata": {
        "id": "0ZlTvUHI9ejI",
        "colab": {
          "base_uri": "https://localhost:8080/"
        },
        "outputId": "87f64b6b-3a16-400a-954a-64fa51814751"
      },
      "source": [
        "model.load_state_dict(torch.load('tut3-model.pt'))\n",
        "\n",
        "test_loss = evaluate(model, test_iterator, criterion)\n",
        "\n",
        "print(f'| Test Loss: {test_loss:.3f} | Test PPL: {math.exp(test_loss):7.3f} |')"
      ],
      "execution_count": 39,
      "outputs": [
        {
          "output_type": "stream",
          "text": [
            "| Test Loss: 4.534 | Test PPL:  93.139 |\n"
          ],
          "name": "stdout"
        }
      ]
    },
    {
      "cell_type": "markdown",
      "metadata": {
        "id": "seTMu4Mj9ejK"
      },
      "source": [
        "We've improved on the previous model, but this came at the cost of doubling the training time.\n",
        "\n",
        "Next, we'll be using the same architecture but using a few tricks that are applicable to all RNN architectures - packed padded sequences and masking. We'll also implement code which will allow us to look at what words in the input the RNN is paying attention to when decoding the output. Check this [Notebook](https://colab.research.google.com/github/bentrevett/pytorch-seq2seq/blob/master/4%20-%20Packed%20Padded%20Sequences%2C%20Masking%2C%20Inference%20and%20BLEU.ipynb) "
      ]
    },
    {
      "cell_type": "code",
      "metadata": {
        "id": "AgPO0mStq89B"
      },
      "source": [
        ""
      ],
      "execution_count": 39,
      "outputs": []
    }
  ]
}