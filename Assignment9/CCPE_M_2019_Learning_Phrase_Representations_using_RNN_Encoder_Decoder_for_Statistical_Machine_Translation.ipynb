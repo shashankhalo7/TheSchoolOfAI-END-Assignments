{
  "nbformat": 4,
  "nbformat_minor": 0,
  "metadata": {
    "kernelspec": {
      "display_name": "Python 3",
      "language": "python",
      "name": "python3"
    },
    "language_info": {
      "codemirror_mode": {
        "name": "ipython",
        "version": 3
      },
      "file_extension": ".py",
      "mimetype": "text/x-python",
      "name": "python",
      "nbconvert_exporter": "python",
      "pygments_lexer": "ipython3",
      "version": "3.8.2"
    },
    "colab": {
      "name": "CCPE-M-2019-Learning_Phrase_Representations_using_RNN_Encoder_Decoder_for_Statistical_Machine_Translation.ipynb",
      "provenance": [],
      "collapsed_sections": [],
      "toc_visible": true,
      "machine_shape": "hm"
    },
    "accelerator": "GPU"
  },
  "cells": [
    {
      "cell_type": "markdown",
      "metadata": {
        "id": "EzxOJwN7EzFO"
      },
      "source": [
        "# 2 - Learning Phrase Representations using RNN Encoder-Decoder for Statistical Machine Translation\n",
        "\n",
        "In this second notebook on sequence-to-sequence models using PyTorch and TorchText, we'll be implementing the model from [Learning Phrase Representations using RNN Encoder-Decoder for Statistical Machine Translation](https://arxiv.org/abs/1406.1078). This model will achieve improved test perplexity whilst only using a single layer RNN in both the encoder and the decoder.\n",
        "\n",
        "## Introduction\n",
        "\n",
        "Let's remind ourselves of the general encoder-decoder model.\n",
        "\n",
        "![](https://github.com/bentrevett/pytorch-seq2seq/blob/master/assets/seq2seq1.png?raw=1)\n",
        "\n",
        "We use our encoder (green) over the embedded source sequence (yellow) to create a context vector (red). We then use that context vector with the decoder (blue) and a linear layer (purple) to generate the target sentence.\n",
        "\n",
        "In the previous model, we used an multi-layered LSTM as the encoder and decoder.\n",
        "\n",
        "![](https://github.com/bentrevett/pytorch-seq2seq/blob/master/assets/seq2seq4.png?raw=1)\n",
        "\n",
        "One downside of the previous model is that the decoder is trying to cram lots of information into the hidden states. Whilst decoding, the hidden state will need to contain information about the whole of the source sequence, as well as all of the tokens have been decoded so far. By alleviating some of this information compression, we can create a better model!\n",
        "\n",
        "We'll also be using a GRU (Gated Recurrent Unit) instead of an LSTM (Long Short-Term Memory). Why? Mainly because that's what they did in the paper (this paper also introduced GRUs) and also because we used LSTMs last time. To understand how GRUs (and LSTMs) differ from standard RNNS, check out [this](https://colah.github.io/posts/2015-08-Understanding-LSTMs/) link. Is a GRU better than an LSTM? [Research](https://arxiv.org/abs/1412.3555) has shown they're pretty much the same, and both are better than standard RNNs. \n",
        "\n",
        "## Preparing Data\n",
        "\n",
        "All of the data preparation will be (almost) the same as last time, so we'll very briefly detail what each code block does. See the previous notebook for a recap.\n",
        "\n",
        "We'll import PyTorch, TorchText, spaCy and a few standard modules."
      ]
    },
    {
      "cell_type": "code",
      "metadata": {
        "id": "uUnMLdevEzFT"
      },
      "source": [
        "import torch\n",
        "import torch.nn as nn\n",
        "import torch.optim as optim\n",
        "\n",
        "from torchtext.datasets import Multi30k\n",
        "from torchtext import data\n",
        "from torchtext.data import Field, BucketIterator\n",
        "\n",
        "import spacy\n",
        "import numpy as np\n",
        "\n",
        "import random\n",
        "import math\n",
        "import time"
      ],
      "execution_count": 29,
      "outputs": []
    },
    {
      "cell_type": "markdown",
      "metadata": {
        "id": "srzErHAsEzFU"
      },
      "source": [
        "Then set a random seed for deterministic results/reproducability."
      ]
    },
    {
      "cell_type": "code",
      "metadata": {
        "id": "r_wP4J4LEzFX"
      },
      "source": [
        "SEED = 1234\n",
        "\n",
        "random.seed(SEED)\n",
        "np.random.seed(SEED)\n",
        "torch.manual_seed(SEED)\n",
        "torch.cuda.manual_seed(SEED)\n",
        "torch.backends.cudnn.deterministic = True"
      ],
      "execution_count": 30,
      "outputs": []
    },
    {
      "cell_type": "markdown",
      "metadata": {
        "id": "t7DgVHY0jzbo"
      },
      "source": [
        "### CCPE-M-2019\r\n",
        "\r\n",
        "A dataset consisting of 502 English dialogs with 12,000 annotated utterances between a user and an assistant discussing movie preferences in natural language. It was collected using a Wizard-of-Oz methodology between two paid crowd-workers, where one worker plays the role of an 'assistant', while the other plays the role of a 'user'.\r\n",
        "\r\n",
        "The 'assistant' elicits the 'user’s' preferences about movies following a Coached Conversational Preference Elicitation (CCPE) method.\r\n",
        "\r\n",
        "The assistant asks questions designed to minimize the bias in the terminology the 'user' employs to convey his or her preferences as much as possible, and to obtain these preferences in natural language. Each dialog is annotated with entity mentions, preferences expressed about entities, descriptions of entities provided, and other statements of entities."
      ]
    },
    {
      "cell_type": "code",
      "metadata": {
        "colab": {
          "base_uri": "https://localhost:8080/"
        },
        "id": "NXSjubpPow5P",
        "outputId": "9a844509-2ff2-4ef5-e0e7-0a0c8ac27e65"
      },
      "source": [
        "!gsutil -m cp -R gs://dialog-data-corpus/CCPE-M-2019 ./\n",
        "\n"
      ],
      "execution_count": 31,
      "outputs": [
        {
          "output_type": "stream",
          "text": [
            "Copying gs://dialog-data-corpus/CCPE-M-2019/README.txt...\n",
            "/ [0/4 files][    0.0 B/  5.0 MiB]   0% Done                                    \rCopying gs://dialog-data-corpus/CCPE-M-2019/data.json...\n",
            "Copying gs://dialog-data-corpus/CCPE-M-2019/landing_page.html...\n"
          ],
          "name": "stdout"
        }
      ]
    },
    {
      "cell_type": "code",
      "metadata": {
        "id": "dhET2uM_J_UQ"
      },
      "source": [
        "from __future__ import division, print_function\n",
        "%matplotlib inline\n",
        "\n",
        "import matplotlib\n",
        "import numpy as np\n",
        "import matplotlib.pyplot as plt\n",
        "import json\n",
        "from collections import defaultdict\n",
        "from nltk import wordpunct_tokenize\n",
        "from scipy.stats import pearsonr, spearmanr\n",
        "\n",
        "with open('/content/CCPE-M-2019/data.json') as json_file: \n",
        "    dataset = json.load(json_file) "
      ],
      "execution_count": 32,
      "outputs": []
    },
    {
      "cell_type": "code",
      "metadata": {
        "colab": {
          "base_uri": "https://localhost:8080/"
        },
        "id": "XYJca5BQIAHg",
        "outputId": "d213aac4-ad91-4197-d2e9-e53d28197acb"
      },
      "source": [
        "dataset[0]"
      ],
      "execution_count": 33,
      "outputs": [
        {
          "output_type": "execute_result",
          "data": {
            "text/plain": [
              "{'conversationId': 'CCPE-8e113',\n",
              " 'utterances': [{'index': 0,\n",
              "   'speaker': 'ASSISTANT',\n",
              "   'text': 'generally speaking what type of movies do you watch'},\n",
              "  {'index': 1,\n",
              "   'segments': [{'annotations': [{'annotationType': 'ENTITY_NAME',\n",
              "       'entityType': 'MOVIE_GENRE_OR_CATEGORY'}],\n",
              "     'endIndex': 16,\n",
              "     'startIndex': 7,\n",
              "     'text': 'thrillers'},\n",
              "    {'annotations': [{'annotationType': 'ENTITY_PREFERENCE',\n",
              "       'entityType': 'MOVIE_GENRE_OR_CATEGORY'}],\n",
              "     'endIndex': 22,\n",
              "     'startIndex': 0,\n",
              "     'text': 'I like thrillers a lot'}],\n",
              "   'speaker': 'USER',\n",
              "   'text': 'I like thrillers a lot.'},\n",
              "  {'index': 2,\n",
              "   'segments': [{'annotations': [{'annotationType': 'ENTITY_NAME',\n",
              "       'entityType': 'MOVIE_GENRE_OR_CATEGORY'}],\n",
              "     'endIndex': 9,\n",
              "     'startIndex': 0,\n",
              "     'text': 'thrillers'}],\n",
              "   'speaker': 'ASSISTANT',\n",
              "   'text': 'thrillers? for example?'},\n",
              "  {'index': 3,\n",
              "   'segments': [{'annotations': [{'annotationType': 'ENTITY_NAME',\n",
              "       'entityType': 'MOVIE_OR_SERIES'}],\n",
              "     'endIndex': 6,\n",
              "     'startIndex': 0,\n",
              "     'text': 'Zodiac'},\n",
              "    {'annotations': [{'annotationType': 'ENTITY_PREFERENCE',\n",
              "       'entityType': 'MOVIE_GENRE_OR_CATEGORY'}],\n",
              "     'endIndex': 34,\n",
              "     'startIndex': 0,\n",
              "     'text': \"Zodiac's one of my favorite movies\"}],\n",
              "   'speaker': 'USER',\n",
              "   'text': \"Zodiac's one of my favorite movies.\"},\n",
              "  {'index': 4,\n",
              "   'segments': [{'annotations': [{'annotationType': 'ENTITY_NAME',\n",
              "       'entityType': 'MOVIE_OR_SERIES'}],\n",
              "     'endIndex': 6,\n",
              "     'startIndex': 0,\n",
              "     'text': 'Zodiac'},\n",
              "    {'annotations': [{'annotationType': 'ENTITY_DESCRIPTION',\n",
              "       'entityType': 'MOVIE_OR_SERIES'}],\n",
              "     'endIndex': 74,\n",
              "     'startIndex': 0,\n",
              "     'text': \"Zodiac the movie about a serial killer from the '60s or '70s, around there\"}],\n",
              "   'speaker': 'USER',\n",
              "   'text': \"Zodiac the movie about a serial killer from the '60s or '70s, around there.\"},\n",
              "  {'index': 5,\n",
              "   'segments': [{'annotations': [{'annotationType': 'ENTITY_NAME',\n",
              "       'entityType': 'MOVIE_OR_SERIES'}],\n",
              "     'endIndex': 6,\n",
              "     'startIndex': 0,\n",
              "     'text': 'Zodiac'}],\n",
              "   'speaker': 'ASSISTANT',\n",
              "   'text': 'Zodiac? oh wow ok, what do you like about that movie'},\n",
              "  {'index': 6,\n",
              "   'segments': [{'annotations': [{'annotationType': 'ENTITY_PREFERENCE',\n",
              "       'entityType': 'MOVIE_OR_SERIES'}],\n",
              "     'endIndex': 90,\n",
              "     'startIndex': 4,\n",
              "     'text': 'I just think serial killers, in general, are interesting, so the movie was really good'},\n",
              "    {'annotations': [{'annotationType': 'ENTITY_PREFERENCE',\n",
              "       'entityType': 'MOVIE_OR_SERIES'}],\n",
              "     'endIndex': 130,\n",
              "     'startIndex': 96,\n",
              "     'text': 'it was just neat to see that world'},\n",
              "    {'annotations': [{'annotationType': 'ENTITY_PREFERENCE',\n",
              "       'entityType': 'MOVIE_OR_SERIES'}],\n",
              "     'endIndex': 160,\n",
              "     'startIndex': 137,\n",
              "     'text': 'it went really in-depth'},\n",
              "    {'annotations': [{'annotationType': 'ENTITY_PREFERENCE',\n",
              "       'entityType': 'MOVIE_OR_SERIES'}],\n",
              "     'endIndex': 271,\n",
              "     'startIndex': 162,\n",
              "     'text': 'It was like almost 3 hours long, so you got to really feel like you were a part of that world and time period'},\n",
              "    {'annotations': [{'annotationType': 'ENTITY_PREFERENCE',\n",
              "       'entityType': 'MOVIE_OR_SERIES'}],\n",
              "     'endIndex': 341,\n",
              "     'startIndex': 273,\n",
              "     'text': 'And see what the detectives and the police did and the investigators'}],\n",
              "   'speaker': 'USER',\n",
              "   'text': 'And I just think serial killers, in general, are interesting, so the movie was really good. And it was just neat to see that world. Like it went really in-depth. It was like almost 3 hours long, so you got to really feel like you were a part of that world and time period. And see what the detectives and the police did and the investigators.'},\n",
              "  {'index': 7,\n",
              "   'speaker': 'ASSISTANT',\n",
              "   'text': 'so you feel like you were part of that world ?'},\n",
              "  {'index': 8,\n",
              "   'segments': [{'annotations': [{'annotationType': 'ENTITY_PREFERENCE',\n",
              "       'entityType': 'MOVIE_OR_SERIES'}],\n",
              "     'endIndex': 38,\n",
              "     'startIndex': 6,\n",
              "     'text': 'It was really an immersive movie'}],\n",
              "   'speaker': 'USER',\n",
              "   'text': 'Yeah. It was really an immersive movie.'},\n",
              "  {'index': 9,\n",
              "   'speaker': 'ASSISTANT',\n",
              "   'text': 'if you were in the movie what character do you feel most relatable'},\n",
              "  {'index': 10,\n",
              "   'segments': [{'annotations': [{'annotationType': 'ENTITY_PREFERENCE',\n",
              "       'entityType': 'MOVIE_OR_SERIES'}],\n",
              "     'endIndex': 79,\n",
              "     'startIndex': 0,\n",
              "     'text': \"Probably the main character, Robert Graysmith, just cuz he's awkward and bumbly\"}],\n",
              "   'speaker': 'USER',\n",
              "   'text': \"Probably the main character, Robert Graysmith, just cuz he's awkward and bumbly. So, I guess that's the one I would be the closest to.\"},\n",
              "  {'index': 11,\n",
              "   'speaker': 'ASSISTANT',\n",
              "   'text': 'what scene do you like the best'},\n",
              "  {'index': 12,\n",
              "   'segments': [{'annotations': [{'annotationType': 'ENTITY_PREFERENCE',\n",
              "       'entityType': 'MOVIE_OR_SERIES'}],\n",
              "     'endIndex': 132,\n",
              "     'startIndex': 68,\n",
              "     'text': \"it's really vivid and horrific to watch. But it's very memorable\"}],\n",
              "   'speaker': 'USER',\n",
              "   'text': \"Probably the most memorable one is the murder at the lake. Just cuz it's really vivid and horrific to watch. But it's very memorable.\"},\n",
              "  {'index': 13,\n",
              "   'speaker': 'ASSISTANT',\n",
              "   'text': 'ok nice, any other similiar movies you have seen recently?'},\n",
              "  {'index': 14, 'speaker': 'USER', 'text': 'Not that I can think of.'},\n",
              "  {'index': 15,\n",
              "   'segments': [{'annotations': [{'annotationType': 'ENTITY_NAME',\n",
              "       'entityType': 'MOVIE_OR_SERIES'}],\n",
              "     'endIndex': 60,\n",
              "     'startIndex': 40,\n",
              "     'text': 'Once Upon a Deadpool'}],\n",
              "   'speaker': 'ASSISTANT',\n",
              "   'text': 'how about different type of movies like Once Upon a Deadpool'},\n",
              "  {'index': 16,\n",
              "   'segments': [{'annotations': [{'annotationType': 'ENTITY_OTHER',\n",
              "       'entityType': 'MOVIE_OR_SERIES'}],\n",
              "     'endIndex': 19,\n",
              "     'startIndex': 0,\n",
              "     'text': \"I haven't seen that\"}],\n",
              "   'speaker': 'USER',\n",
              "   'text': \"I haven't seen that.\"},\n",
              "  {'index': 17,\n",
              "   'speaker': 'ASSISTANT',\n",
              "   'text': 'have you heard of that movie'},\n",
              "  {'index': 18,\n",
              "   'segments': [{'annotations': [{'annotationType': 'ENTITY_OTHER',\n",
              "       'entityType': 'MOVIE_OR_SERIES'}],\n",
              "     'endIndex': 39,\n",
              "     'startIndex': 0,\n",
              "     'text': \"I've heard of it, but I haven't seen it\"}],\n",
              "   'speaker': 'USER',\n",
              "   'text': \"I've heard of it, but I haven't seen it.\"},\n",
              "  {'index': 19,\n",
              "   'speaker': 'ASSISTANT',\n",
              "   'text': 'would you be interested to watch it'},\n",
              "  {'index': 20,\n",
              "   'segments': [{'annotations': [{'annotationType': 'ENTITY_NAME',\n",
              "       'entityType': 'MOVIE_OR_SERIES'}],\n",
              "     'endIndex': 102,\n",
              "     'startIndex': 94,\n",
              "     'text': 'Deadpool'},\n",
              "    {'annotations': [{'annotationType': 'ENTITY_PREFERENCE',\n",
              "       'entityType': 'MOVIE_GENRE_OR_CATEGORY'}],\n",
              "     'endIndex': 65,\n",
              "     'startIndex': 18,\n",
              "     'text': \"I don't really like comic book movies that much\"},\n",
              "    {'annotations': [{'annotationType': 'ENTITY_PREFERENCE',\n",
              "       'entityType': 'MOVIE_GENRE_OR_CATEGORY'}],\n",
              "     'endIndex': 177,\n",
              "     'startIndex': 107,\n",
              "     'text': \"I'd probably be more willing to watch that than most comic book movies\"},\n",
              "    {'annotations': [{'annotationType': 'ENTITY_PREFERENCE',\n",
              "       'entityType': 'MOVIE_OR_SERIES'}],\n",
              "     'endIndex': 102,\n",
              "     'startIndex': 71,\n",
              "     'text': 'I really wanted to see Deadpool'}],\n",
              "   'speaker': 'USER',\n",
              "   'text': \"Not particularly. I don't really like comic book movies that much. But I really wanted to see Deadpool, so I'd probably be more willing to watch that than most comic book movies.\"},\n",
              "  {'index': 21,\n",
              "   'speaker': 'ASSISTANT',\n",
              "   'text': 'oh what makes deadpool different than the others?'},\n",
              "  {'index': 22,\n",
              "   'segments': [{'annotations': [{'annotationType': 'ENTITY_PREFERENCE',\n",
              "       'entityType': 'MOVIE_OR_SERIES'}],\n",
              "     'endIndex': 58,\n",
              "     'startIndex': 14,\n",
              "     'text': 'It just seems a unique concept and different'},\n",
              "    {'annotations': [{'annotationType': 'ENTITY_PREFERENCE',\n",
              "       'entityType': 'MOVIE_OR_SERIES'}],\n",
              "     'endIndex': 97,\n",
              "     'startIndex': 60,\n",
              "     'text': 'not just the standard superhero movie'}],\n",
              "   'speaker': 'USER',\n",
              "   'text': \"I don't know. It just seems a unique concept and different, not just the standard superhero movie.\"},\n",
              "  {'index': 23,\n",
              "   'segments': [{'annotations': [{'annotationType': 'ENTITY_PREFERENCE',\n",
              "       'entityType': 'MOVIE_OR_SERIES'}],\n",
              "     'endIndex': 43,\n",
              "     'startIndex': 4,\n",
              "     'text': \"it's more of a comedy, so that's unique\"}],\n",
              "   'speaker': 'USER',\n",
              "   'text': \"And it's more of a comedy, so that's unique.\"},\n",
              "  {'index': 24,\n",
              "   'speaker': 'ASSISTANT',\n",
              "   'text': 'ok so you enjoy comedy as well, correct?'},\n",
              "  {'index': 25,\n",
              "   'segments': [{'annotations': [{'annotationType': 'ENTITY_PREFERENCE',\n",
              "       'entityType': 'MOVIE_GENRE_OR_CATEGORY'}],\n",
              "     'endIndex': 27,\n",
              "     'startIndex': 5,\n",
              "     'text': 'I think most people do'}],\n",
              "   'speaker': 'USER',\n",
              "   'text': 'Yep, I think most people do.'},\n",
              "  {'index': 26,\n",
              "   'speaker': 'ASSISTANT',\n",
              "   'text': \"what type of movie you don't enjoy?\"},\n",
              "  {'index': 27,\n",
              "   'segments': [{'annotations': [{'annotationType': 'ENTITY_NAME',\n",
              "       'entityType': 'MOVIE_GENRE_OR_CATEGORY'}],\n",
              "     'endIndex': 26,\n",
              "     'startIndex': 14,\n",
              "     'text': 'action movie'},\n",
              "    {'annotations': [{'annotationType': 'ENTITY_NAME',\n",
              "       'entityType': 'MOVIE_OR_SERIES'}],\n",
              "     'endIndex': 44,\n",
              "     'startIndex': 36,\n",
              "     'text': 'Die Hard'},\n",
              "    {'annotations': [{'annotationType': 'ENTITY_NAME',\n",
              "       'entityType': 'MOVIE_OR_SERIES'}],\n",
              "     'endIndex': 58,\n",
              "     'startIndex': 53,\n",
              "     'text': 'Rambo'},\n",
              "    {'annotations': [{'annotationType': 'ENTITY_PREFERENCE',\n",
              "       'entityType': 'MOVIE_GENRE_OR_CATEGORY'}],\n",
              "     'endIndex': 65,\n",
              "     'startIndex': 0,\n",
              "     'text': \"I'm not a big action movie fan like Die Hard or like Rambo movies\"},\n",
              "    {'annotations': [{'annotationType': 'ENTITY_PREFERENCE',\n",
              "       'entityType': 'MOVIE_GENRE_OR_CATEGORY'}],\n",
              "     'endIndex': 113,\n",
              "     'startIndex': 67,\n",
              "     'text': \"I don't hate them, I just think they're boring\"},\n",
              "    {'annotations': [{'annotationType': 'ENTITY_PREFERENCE',\n",
              "       'entityType': 'MOVIE_GENRE_OR_CATEGORY'}],\n",
              "     'endIndex': 175,\n",
              "     'startIndex': 120,\n",
              "     'text': \"I can't watch a lot of them, or else I get sick of them\"}],\n",
              "   'speaker': 'USER',\n",
              "   'text': \"I'm not a big action movie fan like Die Hard or like Rambo movies. I don't hate them, I just think they're boring. Like I can't watch a lot of them, or else I get sick of them.\"},\n",
              "  {'index': 28,\n",
              "   'segments': [{'annotations': [{'annotationType': 'ENTITY_NAME',\n",
              "       'entityType': 'MOVIE_OR_SERIES'}],\n",
              "     'endIndex': 29,\n",
              "     'startIndex': 11,\n",
              "     'text': 'mission impossible'}],\n",
              "   'speaker': 'ASSISTANT',\n",
              "   'text': 'what about mission impossible?'},\n",
              "  {'index': 29,\n",
              "   'segments': [{'annotations': [{'annotationType': 'ENTITY_OTHER',\n",
              "       'entityType': 'MOVIE_OR_SERIES'}],\n",
              "     'endIndex': 13,\n",
              "     'startIndex': 0,\n",
              "     'text': 'Never seen it'},\n",
              "    {'annotations': [{'annotationType': 'ENTITY_OTHER',\n",
              "       'entityType': 'MOVIE_OR_SERIES'}],\n",
              "     'endIndex': 55,\n",
              "     'startIndex': 15,\n",
              "     'text': \"I know what it is, but I haven't seen it\"}],\n",
              "   'speaker': 'USER',\n",
              "   'text': \"Never seen it. I know what it is, but I haven't seen it.\"},\n",
              "  {'index': 30,\n",
              "   'speaker': 'ASSISTANT',\n",
              "   'text': 'do you care who acts in the movie?'},\n",
              "  {'index': 31,\n",
              "   'speaker': 'USER',\n",
              "   'text': \"Just in general? I'm not I'm not picky about actors. Like I won't see a movie just cuz I don't like the actor in it.\"},\n",
              "  {'index': 32,\n",
              "   'speaker': 'ASSISTANT',\n",
              "   'text': 'oh ok so you dont have a favorite actor is that right'},\n",
              "  {'index': 33,\n",
              "   'speaker': 'USER',\n",
              "   'text': \"I mean I like certain actors more than others, but I wouldn't say I have a favorite actor.\"},\n",
              "  {'index': 34,\n",
              "   'speaker': 'ASSISTANT',\n",
              "   'text': 'ok who came to your mind when it comes to actors you like to see in the movie'},\n",
              "  {'index': 35,\n",
              "   'segments': [{'annotations': [{'annotationType': 'ENTITY_NAME',\n",
              "       'entityType': 'PERSON'}],\n",
              "     'endIndex': 31,\n",
              "     'startIndex': 22,\n",
              "     'text': 'Tom Hanks'}],\n",
              "   'speaker': 'ASSISTANT',\n",
              "   'text': 'what is your favorite Tom Hanks movie?'},\n",
              "  {'index': 36,\n",
              "   'segments': [{'annotations': [{'annotationType': 'ENTITY_NAME',\n",
              "       'entityType': 'MOVIE_OR_SERIES'},\n",
              "      {'annotationType': 'ENTITY_PREFERENCE',\n",
              "       'entityType': 'MOVIE_OR_SERIES'}],\n",
              "     'endIndex': 19,\n",
              "     'startIndex': 0,\n",
              "     'text': 'Catch Me If You Can'}],\n",
              "   'speaker': 'USER',\n",
              "   'text': 'Catch Me If You Can'},\n",
              "  {'index': 37,\n",
              "   'speaker': 'ASSISTANT',\n",
              "   'text': 'what so great about that movie'},\n",
              "  {'index': 38,\n",
              "   'segments': [{'annotations': [{'annotationType': 'ENTITY_NAME',\n",
              "       'entityType': 'PERSON'}],\n",
              "     'endIndex': 92,\n",
              "     'startIndex': 75,\n",
              "     'text': 'Leonardo Dicaprio'},\n",
              "    {'annotations': [{'annotationType': 'ENTITY_PREFERENCE',\n",
              "       'entityType': 'MOVIE_OR_SERIES'}],\n",
              "     'endIndex': 30,\n",
              "     'startIndex': 0,\n",
              "     'text': \"It's just an interesting story\"},\n",
              "    {'annotations': [{'annotationType': 'ENTITY_PREFERENCE',\n",
              "       'entityType': 'MOVIE_OR_SERIES'}],\n",
              "     'endIndex': 61,\n",
              "     'startIndex': 35,\n",
              "     'text': \"it's based on a true story\"},\n",
              "    {'annotations': [{'annotationType': 'ENTITY_PREFERENCE',\n",
              "       'entityType': 'MOVIE_OR_SERIES'}],\n",
              "     'endIndex': 118,\n",
              "     'startIndex': 66,\n",
              "     'text': \"it's got Leonardo Dicaprio in it, another good actor\"}],\n",
              "   'speaker': 'USER',\n",
              "   'text': \"It's just an interesting story and it's based on a true story and it's got Leonardo Dicaprio in it, another good actor.\"},\n",
              "  {'index': 39,\n",
              "   'speaker': 'ASSISTANT',\n",
              "   'text': 'do you think that movie is exciting?'},\n",
              "  {'index': 40,\n",
              "   'segments': [{'annotations': [{'annotationType': 'ENTITY_PREFERENCE',\n",
              "       'entityType': 'MOVIE_OR_SERIES'}],\n",
              "     'endIndex': 3,\n",
              "     'startIndex': 0,\n",
              "     'text': 'Yep'}],\n",
              "   'speaker': 'USER',\n",
              "   'text': 'Yep.'},\n",
              "  {'index': 41,\n",
              "   'speaker': 'ASSISTANT',\n",
              "   'text': 'which scene you find most memorable?'},\n",
              "  {'index': 42,\n",
              "   'segments': [{'annotations': [{'annotationType': 'ENTITY_OTHER',\n",
              "       'entityType': 'MOVIE_OR_SERIES'}],\n",
              "     'endIndex': 48,\n",
              "     'startIndex': 0,\n",
              "     'text': \"It's been a long time since I've seen that movie\"}],\n",
              "   'speaker': 'USER',\n",
              "   'text': \"It's been a long time since I've seen that movie. I can't think of any specific scene.\"}]}"
            ]
          },
          "metadata": {
            "tags": []
          },
          "execution_count": 33
        }
      ]
    },
    {
      "cell_type": "code",
      "metadata": {
        "id": "Iax39UJSLUzS"
      },
      "source": [
        "dialog_superset=[]\n",
        "for i in dataset:\n",
        "  user_dialog=[]\n",
        "  assistant_dialog=[]\n",
        "  j=0\n",
        "  last_speaker=None\n",
        "  while j<len(i['utterances']):\n",
        "    if i['utterances'][j]['speaker']=='ASSISTANT':\n",
        "      if last_speaker != 'ASSISTANT':\n",
        "        assistant_dialog.append(i['utterances'][j]['text'])\n",
        "        last_speaker='ASSISTANT'\n",
        "      else:\n",
        "        assistant_dialog[-1]=assistant_dialog[-1]+\" \"\n",
        "        assistant_dialog[-1]=assistant_dialog[-1]+i['utterances'][j]['text']\n",
        "        last_speaker='ASSISTANT'\n",
        "    elif i['utterances'][j]['speaker']=='USER':\n",
        "      if last_speaker != 'USER':\n",
        "        user_dialog.append(i['utterances'][j]['text'])\n",
        "        last_speaker='USER'\n",
        "      else:\n",
        "        user_dialog[-1] = user_dialog[-1] + \" \"\n",
        "        user_dialog[-1]= user_dialog[-1] +i['utterances'][j]['text']\n",
        "        last_speaker='USER'\n",
        "    j+=1\n",
        "  scene= list(map(lambda x, y:(x,y), assistant_dialog, user_dialog)) \n",
        "  dialog_superset.append(scene)\n",
        "\n",
        "\n",
        "      "
      ],
      "execution_count": 34,
      "outputs": []
    },
    {
      "cell_type": "code",
      "metadata": {
        "colab": {
          "base_uri": "https://localhost:8080/"
        },
        "id": "vqYNhzXwMRDf",
        "outputId": "a7413fe8-d851-405d-bcbd-cbd4cc9d4ace"
      },
      "source": [
        "len(dialog_superset)"
      ],
      "execution_count": 35,
      "outputs": [
        {
          "output_type": "execute_result",
          "data": {
            "text/plain": [
              "502"
            ]
          },
          "metadata": {
            "tags": []
          },
          "execution_count": 35
        }
      ]
    },
    {
      "cell_type": "code",
      "metadata": {
        "id": "iUGsMlSr1KKv"
      },
      "source": [
        "dialogue_line_pairs=[]\n",
        "for dialogue_pairs in dialog_superset:\n",
        "  for i in dialogue_pairs:\n",
        "    dialogue_line_pairs.append([i[0],i[1]])"
      ],
      "execution_count": 36,
      "outputs": []
    },
    {
      "cell_type": "code",
      "metadata": {
        "id": "7-o2KlDB2EYE"
      },
      "source": [
        "import pandas as pd\n",
        "df_dialogues = pd.DataFrame(dialogue_line_pairs, columns = ['Input', 'Output'])"
      ],
      "execution_count": 37,
      "outputs": []
    },
    {
      "cell_type": "code",
      "metadata": {
        "id": "UmCvfChV2Rbt"
      },
      "source": [
        "df=df_dialogues"
      ],
      "execution_count": 38,
      "outputs": []
    },
    {
      "cell_type": "code",
      "metadata": {
        "colab": {
          "base_uri": "https://localhost:8080/"
        },
        "id": "dPrdkw3UItVB",
        "outputId": "1f9fcc7b-d625-4fc8-fc77-f52081e26e41"
      },
      "source": [
        "df.shape"
      ],
      "execution_count": 39,
      "outputs": [
        {
          "output_type": "execute_result",
          "data": {
            "text/plain": [
              "(5202, 2)"
            ]
          },
          "metadata": {
            "tags": []
          },
          "execution_count": 39
        }
      ]
    },
    {
      "cell_type": "code",
      "metadata": {
        "colab": {
          "base_uri": "https://localhost:8080/"
        },
        "id": "boVVmkj0Sx41",
        "outputId": "07087ad6-4549-41f1-bd2e-ed52ea7181cf"
      },
      "source": [
        "df.reset_index(drop=True, inplace=True)\r\n",
        "df.shape"
      ],
      "execution_count": 40,
      "outputs": [
        {
          "output_type": "execute_result",
          "data": {
            "text/plain": [
              "(5202, 2)"
            ]
          },
          "metadata": {
            "tags": []
          },
          "execution_count": 40
        }
      ]
    },
    {
      "cell_type": "code",
      "metadata": {
        "colab": {
          "base_uri": "https://localhost:8080/",
          "height": 202
        },
        "id": "zrnbRWjuUe1V",
        "outputId": "c4aacd75-fbe5-4258-8b19-e09a5f6efdb7"
      },
      "source": [
        "df.tail()"
      ],
      "execution_count": 41,
      "outputs": [
        {
          "output_type": "execute_result",
          "data": {
            "text/html": [
              "<div>\n",
              "<style scoped>\n",
              "    .dataframe tbody tr th:only-of-type {\n",
              "        vertical-align: middle;\n",
              "    }\n",
              "\n",
              "    .dataframe tbody tr th {\n",
              "        vertical-align: top;\n",
              "    }\n",
              "\n",
              "    .dataframe thead th {\n",
              "        text-align: right;\n",
              "    }\n",
              "</style>\n",
              "<table border=\"1\" class=\"dataframe\">\n",
              "  <thead>\n",
              "    <tr style=\"text-align: right;\">\n",
              "      <th></th>\n",
              "      <th>Input</th>\n",
              "      <th>Output</th>\n",
              "    </tr>\n",
              "  </thead>\n",
              "  <tbody>\n",
              "    <tr>\n",
              "      <th>5197</th>\n",
              "      <td>have you seen Gone Girl?</td>\n",
              "      <td>No, I have not seen Gone Girl.</td>\n",
              "    </tr>\n",
              "    <tr>\n",
              "      <th>5198</th>\n",
              "      <td>how about Avatar?</td>\n",
              "      <td>I've seen Avatar.</td>\n",
              "    </tr>\n",
              "    <tr>\n",
              "      <th>5199</th>\n",
              "      <td>did you like it?</td>\n",
              "      <td>I did, Avatar was very well done.</td>\n",
              "    </tr>\n",
              "    <tr>\n",
              "      <th>5200</th>\n",
              "      <td>what did you like about it?</td>\n",
              "      <td>I liked the costuming, I liked the how realist...</td>\n",
              "    </tr>\n",
              "    <tr>\n",
              "      <th>5201</th>\n",
              "      <td>nice, it definitely was a big production</td>\n",
              "      <td>Totally huge, yes.</td>\n",
              "    </tr>\n",
              "  </tbody>\n",
              "</table>\n",
              "</div>"
            ],
            "text/plain": [
              "                                         Input                                             Output\n",
              "5197                  have you seen Gone Girl?                     No, I have not seen Gone Girl.\n",
              "5198                         how about Avatar?                                  I've seen Avatar.\n",
              "5199                          did you like it?                  I did, Avatar was very well done.\n",
              "5200               what did you like about it?  I liked the costuming, I liked the how realist...\n",
              "5201  nice, it definitely was a big production                                 Totally huge, yes."
            ]
          },
          "metadata": {
            "tags": []
          },
          "execution_count": 41
        }
      ]
    },
    {
      "cell_type": "code",
      "metadata": {
        "id": "luEP-YIfGrlF"
      },
      "source": [
        "## Define tokenization specs\r\n",
        "Input = data.Field(tokenize = 'spacy',\r\n",
        "            init_token='<sos>', \r\n",
        "            eos_token='<eos>', \r\n",
        "            lower=True)\r\n",
        "\r\n",
        "Output = data.Field(tokenize = 'spacy',\r\n",
        "                    init_token='<sos>', \r\n",
        "                    eos_token='<eos>', \r\n",
        "                    lower=True)\r\n",
        "#sequential = True, \r\n",
        "#Output = data.LabelField(tokenize ='spacy', is_target=True, batch_first =True, sequential =False)"
      ],
      "execution_count": 42,
      "outputs": []
    },
    {
      "cell_type": "code",
      "metadata": {
        "id": "DeEOVO2rHG2T"
      },
      "source": [
        "fields = [('Input', Input),('Output',Output)]"
      ],
      "execution_count": 43,
      "outputs": []
    },
    {
      "cell_type": "code",
      "metadata": {
        "colab": {
          "base_uri": "https://localhost:8080/"
        },
        "id": "JvGoJN86RXmZ",
        "outputId": "e3580307-6e31-475c-d37c-4cbb71c3239d"
      },
      "source": [
        "df.columns"
      ],
      "execution_count": 44,
      "outputs": [
        {
          "output_type": "execute_result",
          "data": {
            "text/plain": [
              "Index(['Input', 'Output'], dtype='object')"
            ]
          },
          "metadata": {
            "tags": []
          },
          "execution_count": 44
        }
      ]
    },
    {
      "cell_type": "code",
      "metadata": {
        "id": "iRN2OBDERjyV"
      },
      "source": [
        "example = [data.Example.fromlist([df.Input[i],df.Output[i]], fields) for i in range(df.shape[0])] "
      ],
      "execution_count": 45,
      "outputs": []
    },
    {
      "cell_type": "code",
      "metadata": {
        "id": "rWbOo9L6UqCa"
      },
      "source": [
        "DialogueDataset = data.Dataset(example, fields)"
      ],
      "execution_count": 46,
      "outputs": []
    },
    {
      "cell_type": "code",
      "metadata": {
        "id": "VP2XQeP3UxTr"
      },
      "source": [
        "# Split the data into train, val and test in 70/20/10 ratio\r\n",
        "(train_data, valid_data, test_data) = DialogueDataset.split(split_ratio=[0.70, 0.10, 0.20], random_state=random.seed(SEED))"
      ],
      "execution_count": 47,
      "outputs": []
    },
    {
      "cell_type": "code",
      "metadata": {
        "colab": {
          "base_uri": "https://localhost:8080/"
        },
        "id": "6C85I0nSU43t",
        "outputId": "1bb51b19-82d9-4289-c5d2-ebdb36e837d0"
      },
      "source": [
        "(len(train_data), len(valid_data), len(test_data))"
      ],
      "execution_count": 48,
      "outputs": [
        {
          "output_type": "execute_result",
          "data": {
            "text/plain": [
              "(3641, 1041, 520)"
            ]
          },
          "metadata": {
            "tags": []
          },
          "execution_count": 48
        }
      ]
    },
    {
      "cell_type": "code",
      "metadata": {
        "colab": {
          "base_uri": "https://localhost:8080/"
        },
        "id": "Zecv-A8Iar82",
        "outputId": "518dee02-f560-454f-a728-e859d62638a2"
      },
      "source": [
        "print(vars(train_data.examples[1]))"
      ],
      "execution_count": 49,
      "outputs": [
        {
          "output_type": "stream",
          "text": [
            "{'Input': ['have', 'you', 'heard', 'of', 'this', 'movie', '?'], 'Output': ['i', 'do', \"n't\", 'think', 'so', '.']}\n"
          ],
          "name": "stdout"
        }
      ]
    },
    {
      "cell_type": "code",
      "metadata": {
        "id": "AwJ8_RKBVdS5"
      },
      "source": [
        "# Build vocabulary from train data\r\n",
        "Input.build_vocab(train_data, min_freq=5)\r\n",
        "Output.build_vocab(train_data, min_freq=5)"
      ],
      "execution_count": 76,
      "outputs": []
    },
    {
      "cell_type": "code",
      "metadata": {
        "colab": {
          "base_uri": "https://localhost:8080/"
        },
        "id": "BuDs-N5lV7v_",
        "outputId": "94d476d9-1ff6-47c7-9e74-e2d6a8431efa"
      },
      "source": [
        "device = torch.device(\"cuda\" if torch.cuda.is_available() else \"cpu\")\r\n",
        "device"
      ],
      "execution_count": 77,
      "outputs": [
        {
          "output_type": "execute_result",
          "data": {
            "text/plain": [
              "device(type='cuda')"
            ]
          },
          "metadata": {
            "tags": []
          },
          "execution_count": 77
        }
      ]
    },
    {
      "cell_type": "code",
      "metadata": {
        "id": "HoJXBlCinfnJ"
      },
      "source": [
        "BATCH_SIZE = 512\r\n",
        "train_iterator, valid_iterator, test_iterator = BucketIterator.splits((train_data, valid_data, test_data), batch_size = BATCH_SIZE, \r\n",
        "                                                            sort_key = lambda x: len(x.Input),\r\n",
        "                                                            sort_within_batch=True, device = device)"
      ],
      "execution_count": 78,
      "outputs": []
    },
    {
      "cell_type": "markdown",
      "metadata": {
        "id": "Jq7BwOO4EzFd"
      },
      "source": [
        "## Building the Seq2Seq Model\n",
        "\n",
        "### Encoder\n",
        "\n",
        "The encoder is similar to the previous one, with the multi-layer LSTM swapped for a single-layer GRU. We also don't pass the dropout as an argument to the GRU as that dropout is used between each layer of a multi-layered RNN. As we only have a single layer, PyTorch will display a warning if we try and use pass a dropout value to it.\n",
        "\n",
        "Another thing to note about the GRU is that it only requires and returns a hidden state, there is no cell state like in the LSTM.\n",
        "\n",
        "$$\\begin{align*}\n",
        "h_t &= \\text{GRU}(e(x_t), h_{t-1})\\\\\n",
        "(h_t, c_t) &= \\text{LSTM}(e(x_t), h_{t-1}, c_{t-1})\\\\\n",
        "h_t &= \\text{RNN}(e(x_t), h_{t-1})\n",
        "\\end{align*}$$\n",
        "\n",
        "From the equations above, it looks like the RNN and the GRU are identical. Inside the GRU, however, is a number of *gating mechanisms* that control the information flow in to and out of the hidden state (similar to an LSTM). Again, for more info, check out [this](https://colah.github.io/posts/2015-08-Understanding-LSTMs/) excellent post. \n",
        "\n",
        "The rest of the encoder should be very familar from the last session, it takes in a sequence, $X = \\{x_1, x_2, ... , x_T\\}$, passes it through the embedding layer, recurrently calculates hidden states, $H = \\{h_1, h_2, ..., h_T\\}$, and returns a context vector (the final hidden state), $z=h_T$.\n",
        "\n",
        "$$h_t = \\text{EncoderGRU}(e(x_t), h_{t-1})$$\n",
        "\n",
        "This is identical to the encoder of the general seq2seq model, with all the \"magic\" happening inside the GRU (green).\n",
        "\n",
        "![](https://github.com/bentrevett/pytorch-seq2seq/blob/master/assets/seq2seq5.png?raw=1)"
      ]
    },
    {
      "cell_type": "code",
      "metadata": {
        "id": "11CnDhTkEzFd"
      },
      "source": [
        "class Encoder(nn.Module):\n",
        "    def __init__(self, input_dim, emb_dim, hid_dim, dropout):\n",
        "        super().__init__()\n",
        "\n",
        "        self.hid_dim = hid_dim\n",
        "        \n",
        "        self.embedding = nn.Embedding(input_dim, emb_dim) #no dropout as only one layer!\n",
        "        \n",
        "        self.rnn = nn.GRU(emb_dim, hid_dim)\n",
        "        \n",
        "        self.dropout = nn.Dropout(dropout)\n",
        "        \n",
        "    def forward(self, src):\n",
        "        \n",
        "        #src = [src len, batch size]\n",
        "        \n",
        "        embedded = self.dropout(self.embedding(src))\n",
        "        \n",
        "        #embedded = [src len, batch size, emb dim]\n",
        "        \n",
        "        outputs, hidden = self.rnn(embedded) #no cell state!\n",
        "        \n",
        "        #outputs = [src len, batch size, hid dim * n directions]\n",
        "        #hidden = [n layers * n directions, batch size, hid dim]\n",
        "        \n",
        "        #outputs are always from the top hidden layer\n",
        "        \n",
        "        return hidden"
      ],
      "execution_count": 79,
      "outputs": []
    },
    {
      "cell_type": "markdown",
      "metadata": {
        "id": "FhBViJ4-EzFe"
      },
      "source": [
        "## Decoder\n",
        "\n",
        "The decoder is where the implementation differs significantly from the previous model and we alleviate some of the information compression.\n",
        "\n",
        "Instead of the GRU in the decoder taking just the embedded target token, $d(y_t)$ and the previous hidden state $s_{t-1}$ as inputs, it also takes the context vector $z$. \n",
        "\n",
        "$$s_t = \\text{DecoderGRU}(d(y_t), s_{t-1}, z)$$\n",
        "\n",
        "Note how this context vector, $z$, does not have a $t$ subscript, meaning we re-use the same context vector returned by the encoder for every time-step in the decoder. \n",
        "\n",
        "Before, we predicted the next token, $\\hat{y}_{t+1}$, with the linear layer, $f$, only using the top-layer decoder hidden state at that time-step, $s_t$, as $\\hat{y}_{t+1}=f(s_t^L)$. Now, we also pass the embedding of current token, $d(y_t)$ and the context vector, $z$ to the linear layer.\n",
        "\n",
        "$$\\hat{y}_{t+1} = f(d(y_t), s_t, z)$$\n",
        "\n",
        "Thus, our decoder now looks something like this:\n",
        "\n",
        "![](https://github.com/bentrevett/pytorch-seq2seq/blob/master/assets/seq2seq6.png?raw=1)\n",
        "\n",
        "Note, the initial hidden state, $s_0$, is still the context vector, $z$, so when generating the first token we are actually inputting two identical context vectors into the GRU.\n",
        "\n",
        "How do these two changes reduce the information compression? Well, hypothetically the decoder hidden states, $s_t$, no longer need to contain information about the source sequence as it is always available as an input. Thus, it only needs to contain information about what tokens it has generated so far. The addition of $y_t$ to the linear layer also means this layer can directly see what the token is, without having to get this information from the hidden state. \n",
        "\n",
        "However, this hypothesis is just a hypothesis, it is impossible to determine how the model actually uses the information provided to it (don't listen to anyone that says differently). Nevertheless, it is a solid intuition and the results seem to indicate that this modifications are a good idea!\n",
        "\n",
        "Within the implementation, we will pass $d(y_t)$ and $z$ to the GRU by concatenating them together, so the input dimensions to the GRU are now `emb_dim + hid_dim` (as context vector will be of size `hid_dim`). The linear layer will take $d(y_t), s_t$ and $z$ also by concatenating them together, hence the input dimensions are now `emb_dim + hid_dim*2`. We also don't pass a value of dropout to the GRU as it only uses a single layer.\n",
        "\n",
        "`forward` now takes a `context` argument. Inside of `forward`, we concatenate $y_t$ and $z$ as `emb_con` before feeding to the GRU, and we concatenate $d(y_t)$, $s_t$ and $z$ together as `output` before feeding it through the linear layer to receive our predictions, $\\hat{y}_{t+1}$."
      ]
    },
    {
      "cell_type": "code",
      "metadata": {
        "id": "wRA8hkiLEzFh"
      },
      "source": [
        "class Decoder(nn.Module):\n",
        "    def __init__(self, output_dim, emb_dim, hid_dim, dropout):\n",
        "        super().__init__()\n",
        "\n",
        "        self.hid_dim = hid_dim\n",
        "        self.output_dim = output_dim\n",
        "        \n",
        "        self.embedding = nn.Embedding(output_dim, emb_dim)\n",
        "        \n",
        "        self.rnn = nn.GRU(emb_dim + hid_dim, hid_dim)\n",
        "        \n",
        "        self.fc_out = nn.Linear(emb_dim + hid_dim * 2, output_dim)\n",
        "        \n",
        "        self.dropout = nn.Dropout(dropout)\n",
        "        \n",
        "    def forward(self, input, hidden, context):\n",
        "        \n",
        "        #input = [batch size]\n",
        "        #hidden = [n layers * n directions, batch size, hid dim]\n",
        "        #context = [n layers * n directions, batch size, hid dim]\n",
        "        \n",
        "        #n layers and n directions in the decoder will both always be 1, therefore:\n",
        "        #hidden = [1, batch size, hid dim]\n",
        "        #context = [1, batch size, hid dim]\n",
        "        \n",
        "        input = input.unsqueeze(0)\n",
        "        \n",
        "        #input = [1, batch size]\n",
        "        \n",
        "        embedded = self.dropout(self.embedding(input))\n",
        "        \n",
        "        #embedded = [1, batch size, emb dim]\n",
        "                \n",
        "        emb_con = torch.cat((embedded, context), dim = 2)\n",
        "            \n",
        "        #emb_con = [1, batch size, emb dim + hid dim]\n",
        "            \n",
        "        output, hidden = self.rnn(emb_con, hidden)\n",
        "        \n",
        "        #output = [seq len, batch size, hid dim * n directions]\n",
        "        #hidden = [n layers * n directions, batch size, hid dim]\n",
        "        \n",
        "        #seq len, n layers and n directions will always be 1 in the decoder, therefore:\n",
        "        #output = [1, batch size, hid dim]\n",
        "        #hidden = [1, batch size, hid dim]\n",
        "        \n",
        "        output = torch.cat((embedded.squeeze(0), hidden.squeeze(0), context.squeeze(0)), \n",
        "                           dim = 1)\n",
        "        \n",
        "        #output = [batch size, emb dim + hid dim * 2]\n",
        "        \n",
        "        prediction = self.fc_out(output)\n",
        "        \n",
        "        #prediction = [batch size, output dim]\n",
        "        \n",
        "        return prediction, hidden"
      ],
      "execution_count": 80,
      "outputs": []
    },
    {
      "cell_type": "markdown",
      "metadata": {
        "id": "wqR66FM2EzFj"
      },
      "source": [
        "## Seq2Seq Model\n",
        "\n",
        "Putting the encoder and decoder together, we get:\n",
        "\n",
        "![](https://github.com/bentrevett/pytorch-seq2seq/blob/master/assets/seq2seq7.png?raw=1)\n",
        "\n",
        "Again, in this implementation we need to ensure the hidden dimensions in both the encoder and the decoder are the same.\n",
        "\n",
        "Briefly going over all of the steps:\n",
        "- the `outputs` tensor is created to hold all predictions, $\\hat{Y}$\n",
        "- the source sequence, $X$, is fed into the encoder to receive a `context` vector\n",
        "- the initial decoder hidden state is set to be the `context` vector, $s_0 = z = h_T$\n",
        "- we use a batch of `<sos>` tokens as the first `input`, $y_1$\n",
        "- we then decode within a loop:\n",
        "  - inserting the input token $y_t$, previous hidden state, $s_{t-1}$, and the context vector, $z$, into the decoder\n",
        "  - receiving a prediction, $\\hat{y}_{t+1}$, and a new hidden state, $s_t$\n",
        "  - we then decide if we are going to teacher force or not, setting the next input as appropriate (either the ground truth next token in the target sequence or the highest predicted next token)"
      ]
    },
    {
      "cell_type": "code",
      "metadata": {
        "id": "FDyNrQ8VEzFk"
      },
      "source": [
        "class Seq2Seq(nn.Module):\n",
        "    def __init__(self, encoder, decoder, device):\n",
        "        super().__init__()\n",
        "        \n",
        "        self.encoder = encoder\n",
        "        self.decoder = decoder\n",
        "        self.device = device\n",
        "        \n",
        "        assert encoder.hid_dim == decoder.hid_dim, \\\n",
        "            \"Hidden dimensions of encoder and decoder must be equal!\"\n",
        "        \n",
        "    def forward(self, src, trg, teacher_forcing_ratio = 0.5):\n",
        "        \n",
        "        #src = [src len, batch size]\n",
        "        #trg = [trg len, batch size]\n",
        "        #teacher_forcing_ratio is probability to use teacher forcing\n",
        "        #e.g. if teacher_forcing_ratio is 0.75 we use ground-truth inputs 75% of the time\n",
        "        \n",
        "        batch_size = trg.shape[1]\n",
        "        trg_len = trg.shape[0]\n",
        "        trg_vocab_size = self.decoder.output_dim\n",
        "        \n",
        "        #tensor to store decoder outputs\n",
        "        outputs = torch.zeros(trg_len, batch_size, trg_vocab_size).to(self.device)\n",
        "        \n",
        "        #last hidden state of the encoder is the context\n",
        "        context = self.encoder(src)\n",
        "        \n",
        "        #context also used as the initial hidden state of the decoder\n",
        "        hidden = context\n",
        "        \n",
        "        #first input to the decoder is the <sos> tokens\n",
        "        input = trg[0,:]\n",
        "        \n",
        "        for t in range(1, trg_len):\n",
        "            \n",
        "            #insert input token embedding, previous hidden state and the context state\n",
        "            #receive output tensor (predictions) and new hidden state\n",
        "            output, hidden = self.decoder(input, hidden, context)\n",
        "            \n",
        "            #place predictions in a tensor holding predictions for each token\n",
        "            outputs[t] = output\n",
        "            \n",
        "            #decide if we are going to use teacher forcing or not\n",
        "            teacher_force = random.random() < teacher_forcing_ratio\n",
        "            \n",
        "            #get the highest predicted token from our predictions\n",
        "            top1 = output.argmax(1) \n",
        "            \n",
        "            #if teacher forcing, use actual next token as next input\n",
        "            #if not, use predicted token\n",
        "            input = trg[t] if teacher_force else top1\n",
        "\n",
        "        return outputs"
      ],
      "execution_count": 81,
      "outputs": []
    },
    {
      "cell_type": "markdown",
      "metadata": {
        "id": "uxVMMPUyEzFk"
      },
      "source": [
        "# Training the Seq2Seq Model\n",
        "\n",
        "The rest of this session is very similar to the previous one. \n",
        "\n",
        "We initialise our encoder, decoder and seq2seq model (placing it on the GPU if we have one). As before, the embedding dimensions and the amount of dropout used can be different between the encoder and the decoder, but the hidden dimensions must remain the same."
      ]
    },
    {
      "cell_type": "code",
      "metadata": {
        "colab": {
          "base_uri": "https://localhost:8080/"
        },
        "id": "P-vIZmVbWX70",
        "outputId": "f66a0f1e-bac7-4e09-f065-e109fe7fc273"
      },
      "source": [
        "len(Output.vocab)"
      ],
      "execution_count": 82,
      "outputs": [
        {
          "output_type": "execute_result",
          "data": {
            "text/plain": [
              "1038"
            ]
          },
          "metadata": {
            "tags": []
          },
          "execution_count": 82
        }
      ]
    },
    {
      "cell_type": "code",
      "metadata": {
        "id": "WDG6jOSuEzFk"
      },
      "source": [
        "#INPUT_DIM = len(SRC.vocab)\n",
        "#OUTPUT_DIM = len(TRG.vocab)\n",
        "INPUT_DIM = len(Input.vocab)\n",
        "OUTPUT_DIM = len(Output.vocab)\n",
        "ENC_EMB_DIM = 256\n",
        "DEC_EMB_DIM = 256\n",
        "HID_DIM = 512\n",
        "ENC_DROPOUT = 0.3\n",
        "DEC_DROPOUT = 0.3\n",
        "\n",
        "enc = Encoder(INPUT_DIM, ENC_EMB_DIM, HID_DIM, ENC_DROPOUT)\n",
        "dec = Decoder(OUTPUT_DIM, DEC_EMB_DIM, HID_DIM, DEC_DROPOUT)\n",
        "\n",
        "device = torch.device('cuda' if torch.cuda.is_available() else 'cpu')\n",
        "\n",
        "model = Seq2Seq(enc, dec, device).to(device)"
      ],
      "execution_count": 84,
      "outputs": []
    },
    {
      "cell_type": "markdown",
      "metadata": {
        "id": "RLIc1l6CEzFk"
      },
      "source": [
        "Next, we initialize our parameters. The paper states the parameters are initialized from a normal distribution with a mean of 0 and a standard deviation of 0.01, i.e. $\\mathcal{N}(0, 0.01)$. \n",
        "\n",
        "It also states we should initialize the recurrent parameters to a special initialization, however to keep things simple we'll also initialize them to $\\mathcal{N}(0, 0.01)$."
      ]
    },
    {
      "cell_type": "code",
      "metadata": {
        "id": "HgqMqq-oEzFk",
        "colab": {
          "base_uri": "https://localhost:8080/"
        },
        "outputId": "3901a2a4-79f5-4270-df15-49e0331d9812"
      },
      "source": [
        "def init_weights(m):\n",
        "    for name, param in m.named_parameters():\n",
        "        nn.init.normal_(param.data, mean=0, std=0.01)\n",
        "        \n",
        "model.apply(init_weights)"
      ],
      "execution_count": 85,
      "outputs": [
        {
          "output_type": "execute_result",
          "data": {
            "text/plain": [
              "Seq2Seq(\n",
              "  (encoder): Encoder(\n",
              "    (embedding): Embedding(385, 256)\n",
              "    (rnn): GRU(256, 512)\n",
              "    (dropout): Dropout(p=0.3, inplace=False)\n",
              "  )\n",
              "  (decoder): Decoder(\n",
              "    (embedding): Embedding(1038, 256)\n",
              "    (rnn): GRU(768, 512)\n",
              "    (fc_out): Linear(in_features=1280, out_features=1038, bias=True)\n",
              "    (dropout): Dropout(p=0.3, inplace=False)\n",
              "  )\n",
              ")"
            ]
          },
          "metadata": {
            "tags": []
          },
          "execution_count": 85
        }
      ]
    },
    {
      "cell_type": "markdown",
      "metadata": {
        "id": "hd1QoOsUEzFl"
      },
      "source": [
        "We print out the number of parameters.\n",
        "\n",
        "Even though we only have a single layer RNN for our encoder and decoder we actually have **more** parameters  than the last model. This is due to the increased size of the inputs to the GRU and the linear layer. However, it is not a significant amount of parameters and causes a minimal amount of increase in training time (~3 seconds per epoch extra)."
      ]
    },
    {
      "cell_type": "code",
      "metadata": {
        "id": "IggCwIBgEzFl",
        "colab": {
          "base_uri": "https://localhost:8080/"
        },
        "outputId": "48db0744-1315-4f0f-fbb4-ff0386ab99db"
      },
      "source": [
        "def count_parameters(model):\n",
        "    return sum(p.numel() for p in model.parameters() if p.requires_grad)\n",
        "\n",
        "print(f'The model has {count_parameters(model):,} trainable parameters')"
      ],
      "execution_count": 86,
      "outputs": [
        {
          "output_type": "stream",
          "text": [
            "The model has 4,845,838 trainable parameters\n"
          ],
          "name": "stdout"
        }
      ]
    },
    {
      "cell_type": "markdown",
      "metadata": {
        "id": "YiH54qzHEzFl"
      },
      "source": [
        "We initiaize our optimizer."
      ]
    },
    {
      "cell_type": "code",
      "metadata": {
        "id": "eO1_eoG7EzFl"
      },
      "source": [
        "optimizer = optim.Adam(model.parameters())"
      ],
      "execution_count": 87,
      "outputs": []
    },
    {
      "cell_type": "markdown",
      "metadata": {
        "id": "BwkV3FKlEzFl"
      },
      "source": [
        "We also initialize the loss function, making sure to ignore the loss on `<pad>` tokens."
      ]
    },
    {
      "cell_type": "code",
      "metadata": {
        "id": "H0DAbGbcEzFl"
      },
      "source": [
        "#TRG_PAD_IDX = TRG.vocab.stoi[TRG.pad_token]\n",
        "\n",
        "TRG_PAD_IDX = Output.vocab.stoi[Output.pad_token]\n",
        "criterion = nn.CrossEntropyLoss(ignore_index = TRG_PAD_IDX)"
      ],
      "execution_count": 88,
      "outputs": []
    },
    {
      "cell_type": "markdown",
      "metadata": {
        "id": "FTay7E9rEzFm"
      },
      "source": [
        "We then create the training loop..."
      ]
    },
    {
      "cell_type": "code",
      "metadata": {
        "id": "A5OYuoFdEzFm"
      },
      "source": [
        "def train(model, iterator, optimizer, criterion, clip):\n",
        "    \n",
        "    model.train()\n",
        "    \n",
        "    epoch_loss = 0\n",
        "    \n",
        "    for i, batch in enumerate(iterator):\n",
        "        \n",
        "        #src = batch.src\n",
        "        #trg = batch.trg\n",
        "        src = batch.Input\n",
        "        trg = batch.Output\n",
        "\n",
        "        optimizer.zero_grad()\n",
        "        \n",
        "        output = model(src, trg)\n",
        "        \n",
        "        #trg = [trg len, batch size]\n",
        "        #output = [trg len, batch size, output dim]\n",
        "        \n",
        "        output_dim = output.shape[-1]\n",
        "        \n",
        "        output = output[1:].view(-1, output_dim)\n",
        "        trg = trg[1:].view(-1)\n",
        "        \n",
        "        #trg = [(trg len - 1) * batch size]\n",
        "        #output = [(trg len - 1) * batch size, output dim]\n",
        "        \n",
        "        loss = criterion(output, trg)\n",
        "        \n",
        "        loss.backward()\n",
        "        \n",
        "        torch.nn.utils.clip_grad_norm_(model.parameters(), clip)\n",
        "        \n",
        "        optimizer.step()\n",
        "        \n",
        "        epoch_loss += loss.item()\n",
        "        \n",
        "    return epoch_loss / len(iterator)"
      ],
      "execution_count": 89,
      "outputs": []
    },
    {
      "cell_type": "markdown",
      "metadata": {
        "id": "6rfUx5lhEzFm"
      },
      "source": [
        "...and the evaluation loop, remembering to set the model to `eval` mode and turn off teaching forcing."
      ]
    },
    {
      "cell_type": "code",
      "metadata": {
        "id": "Jw022pw0EzFm"
      },
      "source": [
        "def evaluate(model, iterator, criterion):\n",
        "    \n",
        "    model.eval()\n",
        "    \n",
        "    epoch_loss = 0\n",
        "    \n",
        "    with torch.no_grad():\n",
        "    \n",
        "        for i, batch in enumerate(iterator):\n",
        "\n",
        "            #src = batch.src\n",
        "            #trg = batch.trg\n",
        "            src = batch.Input\n",
        "            trg = batch.Output\n",
        "\n",
        "            output = model(src, trg, 0) #turn off teacher forcing\n",
        "\n",
        "            #trg = [trg len, batch size]\n",
        "            #output = [trg len, batch size, output dim]\n",
        "\n",
        "            output_dim = output.shape[-1]\n",
        "            \n",
        "            output = output[1:].view(-1, output_dim)\n",
        "            trg = trg[1:].view(-1)\n",
        "\n",
        "            #trg = [(trg len - 1) * batch size]\n",
        "            #output = [(trg len - 1) * batch size, output dim]\n",
        "\n",
        "            loss = criterion(output, trg)\n",
        "\n",
        "            epoch_loss += loss.item()\n",
        "        \n",
        "    return epoch_loss / len(iterator)"
      ],
      "execution_count": 90,
      "outputs": []
    },
    {
      "cell_type": "markdown",
      "metadata": {
        "id": "E43h8dnQEzFm"
      },
      "source": [
        "We'll also define the function that calculates how long an epoch takes."
      ]
    },
    {
      "cell_type": "code",
      "metadata": {
        "id": "zTAmu3-EEzFm"
      },
      "source": [
        "def epoch_time(start_time, end_time):\n",
        "    elapsed_time = end_time - start_time\n",
        "    elapsed_mins = int(elapsed_time / 60)\n",
        "    elapsed_secs = int(elapsed_time - (elapsed_mins * 60))\n",
        "    return elapsed_mins, elapsed_secs"
      ],
      "execution_count": 91,
      "outputs": []
    },
    {
      "cell_type": "markdown",
      "metadata": {
        "id": "kbCGyO4ZEzFm"
      },
      "source": [
        "Then, we train our model, saving the parameters that give us the best validation loss."
      ]
    },
    {
      "cell_type": "code",
      "metadata": {
        "id": "jjFyRUK9EzFm",
        "colab": {
          "base_uri": "https://localhost:8080/"
        },
        "outputId": "e319db9a-a1fb-4143-ddf4-14a39c72403e"
      },
      "source": [
        "N_EPOCHS = 10\n",
        "CLIP = 1\n",
        "\n",
        "best_valid_loss = float('inf')\n",
        "\n",
        "for epoch in range(N_EPOCHS):\n",
        "    \n",
        "    start_time = time.time()\n",
        "    \n",
        "    train_loss = train(model, train_iterator, optimizer, criterion, CLIP)\n",
        "    valid_loss = evaluate(model, valid_iterator, criterion)\n",
        "    \n",
        "    end_time = time.time()\n",
        "    \n",
        "    epoch_mins, epoch_secs = epoch_time(start_time, end_time)\n",
        "    \n",
        "    if valid_loss < best_valid_loss:\n",
        "        best_valid_loss = valid_loss\n",
        "        torch.save(model.state_dict(), 'tut2-model.pt')\n",
        "    \n",
        "    print(f'Epoch: {epoch+1:02} | Time: {epoch_mins}m {epoch_secs}s')\n",
        "    print(f'\\tTrain Loss: {train_loss:.3f} | Train PPL: {math.exp(train_loss):7.3f}')\n",
        "    print(f'\\t Val. Loss: {valid_loss:.3f} |  Val. PPL: {math.exp(valid_loss):7.3f}')"
      ],
      "execution_count": 92,
      "outputs": [
        {
          "output_type": "stream",
          "text": [
            "Epoch: 01 | Time: 0m 9s\n",
            "\tTrain Loss: 6.286 | Train PPL: 537.026\n",
            "\t Val. Loss: 5.393 |  Val. PPL: 219.912\n",
            "Epoch: 02 | Time: 0m 9s\n",
            "\tTrain Loss: 5.177 | Train PPL: 177.137\n",
            "\t Val. Loss: 4.807 |  Val. PPL: 122.324\n",
            "Epoch: 03 | Time: 0m 9s\n",
            "\tTrain Loss: 4.973 | Train PPL: 144.521\n",
            "\t Val. Loss: 4.794 |  Val. PPL: 120.730\n",
            "Epoch: 04 | Time: 0m 9s\n",
            "\tTrain Loss: 4.919 | Train PPL: 136.873\n",
            "\t Val. Loss: 4.751 |  Val. PPL: 115.748\n",
            "Epoch: 05 | Time: 0m 8s\n",
            "\tTrain Loss: 4.858 | Train PPL: 128.826\n",
            "\t Val. Loss: 4.726 |  Val. PPL: 112.800\n",
            "Epoch: 06 | Time: 0m 9s\n",
            "\tTrain Loss: 4.813 | Train PPL: 123.054\n",
            "\t Val. Loss: 4.719 |  Val. PPL: 112.059\n",
            "Epoch: 07 | Time: 0m 9s\n",
            "\tTrain Loss: 4.776 | Train PPL: 118.578\n",
            "\t Val. Loss: 4.714 |  Val. PPL: 111.497\n",
            "Epoch: 08 | Time: 0m 9s\n",
            "\tTrain Loss: 4.700 | Train PPL: 109.930\n",
            "\t Val. Loss: 4.732 |  Val. PPL: 113.478\n",
            "Epoch: 09 | Time: 0m 9s\n",
            "\tTrain Loss: 4.624 | Train PPL: 101.941\n",
            "\t Val. Loss: 4.749 |  Val. PPL: 115.451\n",
            "Epoch: 10 | Time: 0m 9s\n",
            "\tTrain Loss: 4.570 | Train PPL:  96.496\n",
            "\t Val. Loss: 4.772 |  Val. PPL: 118.192\n"
          ],
          "name": "stdout"
        }
      ]
    },
    {
      "cell_type": "markdown",
      "metadata": {
        "id": "ztR5mNm8EzFn"
      },
      "source": [
        "Finally, we test the model on the test set using these \"best\" parameters."
      ]
    },
    {
      "cell_type": "code",
      "metadata": {
        "id": "xaJo3X9aEzFn",
        "colab": {
          "base_uri": "https://localhost:8080/"
        },
        "outputId": "905321b9-a77e-4106-92d8-75b8afc8205d"
      },
      "source": [
        "model.load_state_dict(torch.load('tut2-model.pt'))\n",
        "\n",
        "test_loss = evaluate(model, test_iterator, criterion)\n",
        "\n",
        "print(f'| Test Loss: {test_loss:.3f} | Test PPL: {math.exp(test_loss):7.3f} |')"
      ],
      "execution_count": 93,
      "outputs": [
        {
          "output_type": "stream",
          "text": [
            "| Test Loss: 4.725 | Test PPL: 112.768 |\n"
          ],
          "name": "stdout"
        }
      ]
    },
    {
      "cell_type": "markdown",
      "metadata": {
        "id": "QY7SsC8TEzFn"
      },
      "source": [
        "Just looking at the test loss, we get better performance. This is a pretty good sign that this model architecture is doing something right! Relieving the information compression seems like the way forard, and in the next tutorial we'll expand on this even further with *attention*."
      ]
    },
    {
      "cell_type": "code",
      "metadata": {
        "id": "Rq2kLbQBOPd_"
      },
      "source": [
        ""
      ],
      "execution_count": 93,
      "outputs": []
    }
  ]
}